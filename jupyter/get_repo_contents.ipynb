{
 "cells": [
  {
   "cell_type": "markdown",
   "id": "universal-equality",
   "metadata": {},
   "source": [
    "# Using python requests"
   ]
  },
  {
   "cell_type": "code",
   "execution_count": 48,
   "id": "informed-eight",
   "metadata": {
    "ExecuteTime": {
     "end_time": "2021-02-20T07:40:41.358900Z",
     "start_time": "2021-02-20T07:40:35.309512Z"
    },
    "code_folding": []
   },
   "outputs": [
    {
     "name": "stdout",
     "output_type": "stream",
     "text": [
      "#####################################\n",
      "final_result: \n",
      "[{'path': '.gitignore', 'type': 'file'},\n",
      " {'files': [{'path': 'CS/caching+redis.md', 'type': 'file'},\n",
      "            {'path': 'CS/parallel_computing.md', 'type': 'file'}],\n",
      "  'path': 'CS',\n",
      "  'type': 'dir'},\n",
      " {'files': [{'path': 'CSS/3d.md', 'type': 'file'},\n",
      "            {'path': 'CSS/bootstrap.md', 'type': 'file'},\n",
      "            {'path': 'CSS/selectors.md', 'type': 'file'},\n",
      "            {'path': 'CSS/sizing.md', 'type': 'file'}],\n",
      "  'path': 'CSS',\n",
      "  'type': 'dir'},\n",
      " {'files': [{'path': 'Django/Django_REST_Framework.md', 'type': 'file'},\n",
      "            {'path': 'Django/cbv.md', 'type': 'file'},\n",
      "            {'path': 'Django/form_validation.md', 'type': 'file'},\n",
      "            {'path': 'Django/forms.md', 'type': 'file'},\n",
      "            {'path': 'Django/granular_settings.md', 'type': 'file'},\n",
      "            {'path': 'Django/login.md', 'type': 'file'},\n",
      "            {'path': 'Django/making_queries.md', 'type': 'file'},\n",
      "            {'path': 'Django/models.md', 'type': 'file'},\n",
      "            {'path': 'Django/orm.md', 'type': 'file'},\n",
      "            {'path': 'Django/queryset.md', 'type': 'file'},\n",
      "            {'path': 'Django/reset_migrations.md', 'type': 'file'},\n",
      "            {'path': 'Django/templates.md', 'type': 'file'},\n",
      "            {'path': 'Django/url.md', 'type': 'file'},\n",
      "            {'path': 'Django/whitenoise+middleware.md', 'type': 'file'}],\n",
      "  'path': 'Django',\n",
      "  'type': 'dir'},\n",
      " {'path': 'README.md', 'type': 'file'},\n",
      " {'files': [{'path': 'Telegram_Bot/telegram_bot.md', 'type': 'file'}],\n",
      "  'path': 'Telegram_Bot',\n",
      "  'type': 'dir'},\n",
      " {'files': [{'path': 'algorithms/Knapsack_Problem.md', 'type': 'file'},\n",
      "            {'path': 'algorithms/Linked_Lists.md', 'type': 'file'},\n",
      "            {'path': 'algorithms/backtracking.md', 'type': 'file'},\n",
      "            {'path': 'algorithms/느낀점들.md', 'type': 'file'}],\n",
      "  'path': 'algorithms',\n",
      "  'type': 'dir'},\n",
      " {'files': [{'path': 'celery/basics.md', 'type': 'file'},\n",
      "            {'path': 'celery/celery-beat.md', 'type': 'file'},\n",
      "            {'path': 'celery/crontab.md', 'type': 'file'},\n",
      "            {'path': 'celery/flower.md', 'type': 'file'}],\n",
      "  'path': 'celery',\n",
      "  'type': 'dir'},\n",
      " {'files': [{'path': 'docker/addcopy.md', 'type': 'file'},\n",
      "            {'path': 'docker/basics.md', 'type': 'file'},\n",
      "            {'path': 'docker/django.md', 'type': 'file'},\n",
      "            {'path': 'docker/docker-compose.md', 'type': 'file'},\n",
      "            {'path': 'docker/env_file.md', 'type': 'file'},\n",
      "            {'path': 'docker/image_variants.md', 'type': 'file'}],\n",
      "  'path': 'docker',\n",
      "  'type': 'dir'},\n",
      " {'files': [{'path': 'git/CLI_commands.md', 'type': 'file'},\n",
      "            {'path': 'git/commit_message_convention.md', 'type': 'file'},\n",
      "            {'path': 'git/pull.md', 'type': 'file'},\n",
      "            {'path': 'git/rm.md', 'type': 'file'}],\n",
      "  'path': 'git',\n",
      "  'type': 'dir'},\n",
      " {'files': [{'path': 'heroku/db.md', 'type': 'file'},\n",
      "            {'path': 'heroku/deploying_docker_image.md', 'type': 'file'},\n",
      "            {'path': 'heroku/logs.md', 'type': 'file'},\n",
      "            {'path': 'heroku/run.md', 'type': 'file'}],\n",
      "  'path': 'heroku',\n",
      "  'type': 'dir'},\n",
      " {'files': [{'path': 'javascript/ajax.md', 'type': 'file'},\n",
      "            {'path': 'javascript/chartjs.md', 'type': 'file'}],\n",
      "  'path': 'javascript',\n",
      "  'type': 'dir'},\n",
      " {'files': [{'path': 'jupyter/shortcuts.md', 'type': 'file'}],\n",
      "  'path': 'jupyter',\n",
      "  'type': 'dir'},\n",
      " {'files': [{'path': 'linux/basics.md', 'type': 'file'},\n",
      "            {'path': 'linux/chmod.md', 'type': 'file'},\n",
      "            {'path': 'linux/curl.md', 'type': 'file'},\n",
      "            {'path': 'linux/echo+tee.md', 'type': 'file'},\n",
      "            {'path': 'linux/grep+sort.md', 'type': 'file'},\n",
      "            {'path': 'linux/pipe.md', 'type': 'file'},\n",
      "            {'path': 'linux/set-ex.md', 'type': 'file'},\n",
      "            {'path': 'linux/sh_files.md', 'type': 'file'},\n",
      "            {'path': 'linux/variables.md', 'type': 'file'}],\n",
      "  'path': 'linux',\n",
      "  'type': 'dir'},\n",
      " {'files': [{'path': 'python/PEP_8.md', 'type': 'file'},\n",
      "            {'path': 'python/__all__.md', 'type': 'file'},\n",
      "            {'path': 'python/approximate_pattern_matching.md', 'type': 'file'},\n",
      "            {'path': 'python/buffer.md', 'type': 'file'},\n",
      "            {'path': 'python/class.md', 'type': 'file'},\n",
      "            {'path': 'python/env.md', 'type': 'file'},\n",
      "            {'path': 'python/heapq.md', 'type': 'file'},\n",
      "            {'path': 'python/pip.md', 'type': 'file'},\n",
      "            {'path': 'python/scope.md', 'type': 'file'},\n",
      "            {'path': 'python/set.md', 'type': 'file'},\n",
      "            {'path': 'python/ternary_operator.md', 'type': 'file'},\n",
      "            {'path': 'python/truth_value_testing.md', 'type': 'file'}],\n",
      "  'path': 'python',\n",
      "  'type': 'dir'},\n",
      " {'files': [{'files': [{'path': 'sql/postgresql/pgAdmin4.md', 'type': 'file'},\n",
      "                       {'path': 'sql/postgresql/postgres_12_alpine..md',\n",
      "                        'type': 'file'}],\n",
      "             'path': 'sql/postgresql',\n",
      "             'type': 'dir'},\n",
      "            {'files': [{'path': 'sql/sqlite3/how_to.md', 'type': 'file'}],\n",
      "             'path': 'sql/sqlite3',\n",
      "             'type': 'dir'}],\n",
      "  'path': 'sql',\n",
      "  'type': 'dir'},\n",
      " {'files': [{'path': 'vscode/bash_aliases.md', 'type': 'file'},\n",
      "            {'path': 'vscode/shortcuts.md', 'type': 'file'}],\n",
      "  'path': 'vscode',\n",
      "  'type': 'dir'},\n",
      " {'files': [{'path': 'web_concepts/REST_vs_Soap.md', 'type': 'file'},\n",
      "            {'path': 'web_concepts/spa.md', 'type': 'file'},\n",
      "            {'path': 'web_concepts/url_vs_uri.md', 'type': 'file'}],\n",
      "  'path': 'web_concepts',\n",
      "  'type': 'dir'},\n",
      " {'files': [{'path': 'wsl2/vmmem.md', 'type': 'file'}],\n",
      "  'path': 'wsl2',\n",
      "  'type': 'dir'}]\n"
     ]
    }
   ],
   "source": [
    "import requests\n",
    "import json\n",
    "from pprint import pprint\n",
    "\n",
    "username = 'ririro93'\n",
    "token = ''\n",
    "content_URL = 'https://api.github.com/repos/ririro93/TIL/contents/'\n",
    "\n",
    "\n",
    "final_result = []\n",
    "# wanted_keys = ['type', 'path', 'sha', 'url']\n",
    "wanted_keys = ['type', 'path']\n",
    "\n",
    "\n",
    "def get_contents(URL):\n",
    "    result = []\n",
    "    content_res = requests.get(URL, auth=(username, token))\n",
    "    content_jsons = content_res.json()\n",
    "    \n",
    "    for content_json in content_jsons:\n",
    "        data = {key: val for key, val in content_json.items() if key in wanted_keys}\n",
    "        # if directory\n",
    "        if data.get('type') == 'dir':\n",
    "            data['files'] = get_contents(content_URL + data.get('path'))\n",
    "        result.append(data)\n",
    "    return result\n",
    "\n",
    "content_res = requests.get(content_URL, auth=(username, token))\n",
    "content_jsons = content_res.json()\n",
    "for content_json in content_jsons:\n",
    "    data = {key: val for key, val in content_json.items() if key in wanted_keys}\n",
    "    if data.get('type') == 'dir':\n",
    "        data['files'] = get_contents(content_URL + data.get('path'))\n",
    "    final_result.append(data)\n",
    "print('#####################################')\n",
    "print('final_result: ')\n",
    "pprint(final_result)"
   ]
  },
  {
   "cell_type": "code",
   "execution_count": 35,
   "id": "superior-pound",
   "metadata": {
    "ExecuteTime": {
     "end_time": "2021-02-20T06:59:12.175304Z",
     "start_time": "2021-02-20T06:59:12.162300Z"
    }
   },
   "outputs": [
    {
     "name": "stdout",
     "output_type": "stream",
     "text": [
      "19\n"
     ]
    }
   ],
   "source": [
    "print(len(final_result))"
   ]
  },
  {
   "cell_type": "markdown",
   "id": "persistent-objective",
   "metadata": {},
   "source": [
    "# using PyGithub library"
   ]
  },
  {
   "cell_type": "code",
   "execution_count": 46,
   "id": "pacific-handbook",
   "metadata": {
    "ExecuteTime": {
     "end_time": "2021-02-20T07:29:27.291469Z",
     "start_time": "2021-02-20T07:29:21.905325Z"
    }
   },
   "outputs": [
    {
     "name": "stdout",
     "output_type": "stream",
     "text": [
      "ContentFile(path=\".gitignore\")\n",
      "ContentFile(path=\"README.md\")\n",
      "ContentFile(path=\"gitin\")\n",
      "ContentFile(path=\"gitin/gitAPI\")\n",
      "ContentFile(path=\"gitin/gitAPI/__init__.py\")\n",
      "ContentFile(path=\"gitin/gitAPI/admin.py\")\n",
      "ContentFile(path=\"gitin/gitAPI/apps.py\")\n",
      "ContentFile(path=\"gitin/gitAPI/forms.py\")\n",
      "ContentFile(path=\"gitin/gitAPI/migrations\")\n",
      "ContentFile(path=\"gitin/gitAPI/migrations/0001_initial.py\")\n",
      "ContentFile(path=\"gitin/gitAPI/migrations/0002_auto_20210219_2212.py\")\n",
      "ContentFile(path=\"gitin/gitAPI/migrations/__init__.py\")\n",
      "ContentFile(path=\"gitin/gitAPI/models.py\")\n",
      "ContentFile(path=\"gitin/gitAPI/templates\")\n",
      "ContentFile(path=\"gitin/gitAPI/templates/gitAPI\")\n",
      "ContentFile(path=\"gitin/gitAPI/templates/gitAPI/githubrepo_detail.html\")\n",
      "ContentFile(path=\"gitin/gitAPI/tests.py\")\n",
      "ContentFile(path=\"gitin/gitAPI/urls.py\")\n",
      "ContentFile(path=\"gitin/gitAPI/views.py\")\n",
      "ContentFile(path=\"gitin/gitin\")\n",
      "ContentFile(path=\"gitin/gitin/__init__.py\")\n",
      "ContentFile(path=\"gitin/gitin/asgi.py\")\n",
      "ContentFile(path=\"gitin/gitin/models.py\")\n",
      "ContentFile(path=\"gitin/gitin/settings\")\n",
      "ContentFile(path=\"gitin/gitin/settings/base_settings.py\")\n",
      "ContentFile(path=\"gitin/gitin/settings/dev.py\")\n",
      "ContentFile(path=\"gitin/gitin/urls.py\")\n",
      "ContentFile(path=\"gitin/gitin/views.py\")\n",
      "ContentFile(path=\"gitin/gitin/wsgi.py\")\n",
      "ContentFile(path=\"gitin/manage.py\")\n",
      "ContentFile(path=\"gitin/profiles\")\n",
      "ContentFile(path=\"gitin/profiles/__init__.py\")\n",
      "ContentFile(path=\"gitin/profiles/admin.py\")\n",
      "ContentFile(path=\"gitin/profiles/apps.py\")\n",
      "ContentFile(path=\"gitin/profiles/migrations\")\n",
      "ContentFile(path=\"gitin/profiles/migrations/__init__.py\")\n",
      "ContentFile(path=\"gitin/profiles/models.py\")\n",
      "ContentFile(path=\"gitin/profiles/tests.py\")\n",
      "ContentFile(path=\"gitin/profiles/views.py\")\n",
      "ContentFile(path=\"gitin/static\")\n",
      "ContentFile(path=\"gitin/static/css\")\n",
      "ContentFile(path=\"gitin/static/css/base.css\")\n",
      "ContentFile(path=\"gitin/static/css/bootstrap-social.css\")\n",
      "ContentFile(path=\"gitin/templates\")\n",
      "ContentFile(path=\"gitin/templates/base.html\")\n",
      "ContentFile(path=\"gitin/templates/base\")\n",
      "ContentFile(path=\"gitin/templates/base/css.html\")\n",
      "ContentFile(path=\"gitin/templates/base/js.html\")\n",
      "ContentFile(path=\"gitin/templates/base/messages.html\")\n",
      "ContentFile(path=\"gitin/templates/base/navbar.html\")\n",
      "ContentFile(path=\"gitin/templates/forms.html\")\n",
      "ContentFile(path=\"gitin/templates/home_page.html\")\n",
      "ContentFile(path=\"gitin/templates/snippets\")\n",
      "ContentFile(path=\"gitin/templates/snippets/form.html\")\n",
      "ContentFile(path=\"gitin/users\")\n",
      "ContentFile(path=\"gitin/users/__init__.py\")\n",
      "ContentFile(path=\"gitin/users/admin.py\")\n",
      "ContentFile(path=\"gitin/users/apps.py\")\n",
      "ContentFile(path=\"gitin/users/forms.py\")\n",
      "ContentFile(path=\"gitin/users/managers.py\")\n",
      "ContentFile(path=\"gitin/users/migrations\")\n",
      "ContentFile(path=\"gitin/users/migrations/0001_initial.py\")\n",
      "ContentFile(path=\"gitin/users/migrations/0002_auto_20210219_2220.py\")\n",
      "ContentFile(path=\"gitin/users/migrations/__init__.py\")\n",
      "ContentFile(path=\"gitin/users/models.py\")\n",
      "ContentFile(path=\"gitin/users/templates\")\n",
      "ContentFile(path=\"gitin/users/templates/users\")\n",
      "ContentFile(path=\"gitin/users/templates/users/login_page.html\")\n",
      "ContentFile(path=\"gitin/users/templates/users/signup_page.html\")\n",
      "ContentFile(path=\"gitin/users/tests.py\")\n",
      "ContentFile(path=\"gitin/users/urls.py\")\n",
      "ContentFile(path=\"gitin/users/views.py\")\n",
      "ContentFile(path=\"jupyter\")\n",
      "ContentFile(path=\"jupyter/get_commits_data.ipynb\")\n",
      "ContentFile(path=\"requirements.txt\")\n",
      "(4832, 5000)\n"
     ]
    }
   ],
   "source": [
    "import base64\n",
    "from github import Github\n",
    "from pprint import pprint\n",
    "from collections import deque\n",
    "\n",
    "token = ''\n",
    "repo_name = 'ririro93/gitin'\n",
    "\n",
    "# pygithub object\n",
    "g = Github(token)\n",
    "\n",
    "# repo\n",
    "repo = g.get_repo(repo_name)\n",
    "\n",
    "# contents\n",
    "contents = deque(repo.get_contents(''))\n",
    "results = []\n",
    "\n",
    "while contents:\n",
    "    curr_content = contents.popleft()\n",
    "    if curr_content.type == 'dir':\n",
    "        for next_content in repo.get_contents(curr_content.path)[::-1]:\n",
    "            contents.appendleft(next_content)\n",
    "    results.append(curr_content)\n",
    "for result in results:\n",
    "    print(result)\n",
    "print(g.rate_limiting)\n"
   ]
  },
  {
   "cell_type": "code",
   "execution_count": 53,
   "id": "listed-baptist",
   "metadata": {
    "ExecuteTime": {
     "end_time": "2021-02-20T08:41:04.665502Z",
     "start_time": "2021-02-20T08:41:04.654501Z"
    }
   },
   "outputs": [
    {
     "name": "stdout",
     "output_type": "stream",
     "text": [
      ".gitignore\n"
     ]
    }
   ],
   "source": [
    "print(results[0].path)"
   ]
  },
  {
   "cell_type": "markdown",
   "id": "declared-patch",
   "metadata": {},
   "source": [
    "# Get Github Users and Repos"
   ]
  },
  {
   "cell_type": "code",
   "execution_count": 103,
   "id": "optional-briefing",
   "metadata": {
    "ExecuteTime": {
     "end_time": "2021-02-20T15:26:06.181276Z",
     "start_time": "2021-02-20T15:26:05.884671Z"
    }
   },
   "outputs": [
    {
     "name": "stdout",
     "output_type": "stream",
     "text": [
      "rate limit:  4974 / 5000\n"
     ]
    }
   ],
   "source": [
    "from github import Github\n",
    "from pprint import pprint\n",
    "\n",
    "token = ''\n",
    "github = Github(token)\n",
    "print('rate limit: ', github.rate_limiting[0], '/', github.rate_limiting[1])\n",
    "\n",
    "search_word = 'ririro93'"
   ]
  },
  {
   "cell_type": "markdown",
   "id": "numerical-domain",
   "metadata": {},
   "source": [
    "## get users"
   ]
  },
  {
   "cell_type": "code",
   "execution_count": 93,
   "id": "published-receipt",
   "metadata": {
    "ExecuteTime": {
     "end_time": "2021-02-20T12:32:59.816792Z",
     "start_time": "2021-02-20T12:32:59.554838Z"
    }
   },
   "outputs": [
    {
     "name": "stdout",
     "output_type": "stream",
     "text": [
      "ririro93\n"
     ]
    }
   ],
   "source": [
    "user = github.get_user(search_word)\n",
    "print(user.login)"
   ]
  },
  {
   "cell_type": "markdown",
   "id": "equipped-cradle",
   "metadata": {},
   "source": [
    "## get repos"
   ]
  },
  {
   "cell_type": "code",
   "execution_count": 94,
   "id": "wicked-classics",
   "metadata": {
    "ExecuteTime": {
     "end_time": "2021-02-20T12:33:03.159807Z",
     "start_time": "2021-02-20T12:33:02.673377Z"
    }
   },
   "outputs": [
    {
     "name": "stdout",
     "output_type": "stream",
     "text": [
      "Repository(full_name=\"ririro93/algorithm_probs\")\n",
      "Repository(full_name=\"ririro93/baekjoon_crawling\")\n",
      "Repository(full_name=\"ririro93/catchmind-clone\")\n",
      "Repository(full_name=\"ririro93/DeepLearningZeroToAll\")\n",
      "Repository(full_name=\"ririro93/django-bootcamp\")\n",
      "Repository(full_name=\"ririro93/first-git\")\n",
      "Repository(full_name=\"ririro93/game-developer-roadmap\")\n",
      "Repository(full_name=\"ririro93/gitin\")\n",
      "Repository(full_name=\"ririro93/gym\")\n",
      "Repository(full_name=\"ririro93/hello-world\")\n",
      "Repository(full_name=\"ririro93/il_que\")\n",
      "Repository(full_name=\"ririro93/keras\")\n",
      "Repository(full_name=\"ririro93/kimhun_rl_windows\")\n",
      "Repository(full_name=\"ririro93/myHome\")\n",
      "Repository(full_name=\"ririro93/React-projects\")\n",
      "Repository(full_name=\"ririro93/React-Snake-Game\")\n",
      "Repository(full_name=\"ririro93/reinforcement-learning-kr\")\n",
      "Repository(full_name=\"ririro93/ReinforcementZeroToAll\")\n",
      "Repository(full_name=\"ririro93/ririro93\")\n",
      "Repository(full_name=\"ririro93/ririro93.github.io\")\n",
      "Repository(full_name=\"ririro93/SASS_doodle\")\n",
      "Repository(full_name=\"ririro93/TIL\")\n",
      "Repository(full_name=\"ririro93/Unity_Practice\")\n",
      "Repository(full_name=\"ririro93/web-scraping\")\n"
     ]
    }
   ],
   "source": [
    "repos = user.get_repos()\n",
    "for repo in repos:\n",
    "    print(repo)"
   ]
  },
  {
   "cell_type": "code",
   "execution_count": 115,
   "id": "round-savannah",
   "metadata": {
    "ExecuteTime": {
     "end_time": "2021-02-20T16:00:39.414527Z",
     "start_time": "2021-02-20T16:00:22.325945Z"
    }
   },
   "outputs": [
    {
     "name": "stdout",
     "output_type": "stream",
     "text": [
      "Junha Moon\n",
      "Feat: clicking repo redirects to repo details\n",
      "[File(sha=\"fb38d4894857d9382101a2b4fd4fb9f063ec29d6\", filename=\"gitin/gitAPI/migrations/0006_auto_20210220_2151.py\"), File(sha=\"785bb6acc2ea11e2e00d070588f012632388b687\", filename=\"gitin/gitAPI/models.py\"), File(sha=\"fa0fac8ca3490eab6ba30afc41bbccc0a4d05022\", filename=\"gitin/gitAPI/templates/gitAPI/search_github.html\"), File(sha=\"4aaa30bfcf0e5ba374829d7f82ebff1944650181\", filename=\"gitin/gitAPI/urls.py\"), File(sha=\"3ef29c1a3918605ee91d23b5aefe9e68f0141f51\", filename=\"gitin/gitAPI/views.py\"), File(sha=\"f894b76362f35d2dc1e6e0a2455a9f4174d1f9e9\", filename=\"gitin/templates/base/navbar.html\")]\n",
      "Junha Moon\n",
      "Feat: searching username shows all repos of user\n",
      "[File(sha=\"dac11fe7b68252a44c7dbe0001346891af51cad0\", filename=\"gitin/gitAPI/migrations/0005_remove_githubrepo_html_url.py\"), File(sha=\"4770e9561e56c01342d883470b5895f2a1cb8c8b\", filename=\"gitin/gitAPI/models.py\"), File(sha=\"ffe3f27e4b3351130bfe5079682c6a034acc3565\", filename=\"gitin/gitAPI/templates/gitAPI/githubrepo_create.html\"), File(sha=\"059af92646ae10254e92b47d986b9f0025b848d5\", filename=\"gitin/gitAPI/templates/gitAPI/githubrepo_list.html\"), File(sha=\"183fd92c2140615e28a51ba7a2c7a1d81c70ef3b\", filename=\"gitin/gitAPI/templates/gitAPI/search_github.html\"), File(sha=\"5997868c135b75668e1150436d243178f6ef82dc\", filename=\"gitin/gitAPI/urls.py\"), File(sha=\"61f2fa8dc80382d95d5262b01c2b19c65f92f248\", filename=\"gitin/gitAPI/views.py\"), File(sha=\"490b7079ebe0061b42b70d4d24467d2e8567ea02\", filename=\"gitin/gitin/settings/base_settings.py\"), File(sha=\"8cc1eab2a5c6ea9b61ffe6ab273d1bfe84b4a7f4\", filename=\"gitin/templates/base/navbar.html\"), File(sha=\"a20b2830e74b398ea6df367c3f1a2da95d5a9956\", filename=\"jupyter/get_repo_contents.ipynb\")]\n",
      "Junha Moon\n",
      "Feat: detailed repo view now show contents\n",
      "[File(sha=\"c342ffb184fad9bc17e9f3e60b5415f4a9fd81d6\", filename=\"gitin/gitAPI/templates/gitAPI/githubrepo_detail.html\"), File(sha=\"4bfb0fd67f34e5332c77469c9ebb69d057ccb9ec\", filename=\"gitin/gitAPI/views.py\"), File(sha=\"b8431dc517788a22d215efd1b35b5095fc4ea90d\", filename=\"jupyter/get_repo_contents.ipynb\")]\n",
      "Junha Moon\n",
      "Feat: added RepoContentFile model\n",
      "\n",
      "This model contains data of all the files in a repo\n",
      "[File(sha=\"3aa3a3092a8b73bac42b96b3210b71891349d1f5\", filename=\"gitin/gitAPI/admin.py\"), File(sha=\"30800c7527053fd59979e870657004954b821d4f\", filename=\"gitin/gitAPI/migrations/0003_repocontentfile.py\"), File(sha=\"d10c5bc98ce29f28f675c6c64297edd80ad74276\", filename=\"gitin/gitAPI/migrations/0004_auto_20210220_1719.py\"), File(sha=\"3b55ef841a28106ec7bcdf321b2f34600ae6b04e\", filename=\"gitin/gitAPI/models.py\"), File(sha=\"4a21ae707e30496552546c8df95f3599e58f37fe\", filename=\"gitin/gitAPI/templates/gitAPI/githubrepo_detail.html\"), File(sha=\"e1d77a15173a6a5bc854865cc965788fdded32bf\", filename=\"gitin/gitAPI/views.py\"), File(sha=\"fe6b869362b1d519ca3bc60f7b7de85564e29095\", filename=\"gitin/gitin/settings/dev.py\"), File(sha=\"6ba5224055157ca2583dfe30bc02092bed5f1b1b\", filename=\"gitin/users/views.py\"), File(sha=\"f20c08e39c1708cad3d4fa6dd4a17b79fa6164e0\", filename=\"jupyter/Untitled.ipynb\"), File(sha=\"ac45ea450e3adb091b0d37c65077312fd381e112\", filename=\"jupyter/get_repo_contents.ipynb\"), File(sha=\"9bc26d8c29b43443551cd3fff3116390926f27ac\", filename=\"requirements.txt\")]\n",
      "Junha Moon\n",
      "Feat: now logging in or logging out takes user to back previous page\n",
      "[File(sha=\"bf5af6190aa52b2cd836170e45fed4cda0120b37\", filename=\"gitin/gitin/settings/base_settings.py\"), File(sha=\"80a0908f34b7236a52914eb742dc928aee198ea1\", filename=\"gitin/templates/base/navbar.html\"), File(sha=\"5980cd3cf5a941e78e3609cc3b5e75478c591252\", filename=\"gitin/users/templates/users/login_page.html\"), File(sha=\"c6cc489cff5b35da89ca36cdf6e00146588da762\", filename=\"gitin/users/views.py\")]\n",
      "Junha Moon\n",
      "Refactor: now email is used to login instead of username\n",
      "[File(sha=\"8fe8dccfad9a64e84c46cd56008174a7750c2c5f\", filename=\"gitin/gitin/settings/base_settings.py\"), File(sha=\"42733c448d11191e89791c665f596a204aeef205\", filename=\"gitin/templates/base/navbar.html\"), File(sha=\"d408ce1ca50b08591c69eb40c5e918055eb529e2\", filename=\"gitin/users/forms.py\"), File(sha=\"9e6f558936ebed2ec659b1736b3f7de0fe4c815f\", filename=\"gitin/users/models.py\"), File(sha=\"5de85bd1027cad5de299e330a5c01a7fb1cbc6ad\", filename=\"gitin/users/templates/users/signup_page.html\"), File(sha=\"0b7891aab36f7b73a73229d055ddc4b1be903625\", filename=\"gitin/users/views.py\")]\n",
      "Junha Moon\n",
      "Fix: removed accounts and set CustomUser model instead of default django user\n",
      "[File(sha=\"e1c09e489443a25fcee43920fddcff2893e1c79c\", filename=\"gitin/accounts/admin.py\"), File(sha=\"9b3fc5a44939430bfb326ca9a33f80e99b06b5be\", filename=\"gitin/accounts/apps.py\"), File(sha=\"550b7e5293970e1932ead95253ec0ef3314e012e\", filename=\"gitin/accounts/migrations/0001_initial.py\"), File(sha=\"04bfcb9c091d651a59789a811d277742542a725a\", filename=\"gitin/accounts/migrations/0002_auto_20210217_2356.py\"), File(sha=\"f4c31bbfbf63117467299f676bb0f4eedff67ac1\", filename=\"gitin/accounts/migrations/0003_gitinuser_profile_img.py\"), File(sha=\"762fb0df5fc1e81ab3234e78cad67f9f1fb6f2a4\", filename=\"gitin/accounts/models.py\"), File(sha=\"2d0e124a66e5061fd697d147c873573034da9e14\", filename=\"gitin/gitAPI/migrations/0001_initial.py\"), File(sha=\"651fd25caba91db10a241ffc11a22c1edb8cf478\", filename=\"gitin/gitAPI/migrations/0002_auto_20210217_0139.py\"), File(sha=\"a41320439f421c84b819316a3c2af58153de15f8\", filename=\"gitin/gitAPI/migrations/0002_auto_20210219_2212.py\"), File(sha=\"5fe8575cef77406113f9eb5651414ae1c30755b3\", filename=\"gitin/gitAPI/migrations/0003_auto_20210217_0141.py\"), File(sha=\"141f8bc366b8561811d68c6939beaa3a6adafaac\", filename=\"gitin/gitAPI/migrations/0004_auto_20210217_2345.py\"), File(sha=\"0d3dff72e7894cdec8da97ea175ea51ab501db08\", filename=\"gitin/gitAPI/migrations/0005_auto_20210217_2350.py\"), File(sha=\"4a3bb122ab785aa97d5f5fdaec602243ff5c7e01\", filename=\"gitin/gitAPI/migrations/0006_repocomments.py\"), File(sha=\"31c8cf56bf02b668bc2b3eb9d7be2a427cd97825\", filename=\"gitin/gitAPI/migrations/0007_repocomments_updated.py\"), File(sha=\"ad67953c70661aa09b23019a74448b6138d520f1\", filename=\"gitin/gitAPI/migrations/0008_auto_20210218_1706.py\"), File(sha=\"cf51f568cc31d936dbc9d3b72259f8f81ca96c71\", filename=\"gitin/gitAPI/migrations/0009_auto_20210218_1827.py\"), File(sha=\"267f823662d6847780bc0a9a7783c6ac833555f5\", filename=\"gitin/gitAPI/migrations/0010_repocommit.py\"), File(sha=\"bc1712a5548cdb4657af8b78e29662254b7474a0\", filename=\"gitin/gitAPI/migrations/0011_auto_20210219_0216.py\"), File(sha=\"61c23a7b7c22d58f3588baf2b385226cea995c4f\", filename=\"gitin/gitAPI/models.py\"), File(sha=\"2e753e0e7e4dd27fe8102bf889636e3a3062de30\", filename=\"gitin/gitAPI/views.py\"), File(sha=\"291b7bb997a61a521c3023af952bace1bed3da4a\", filename=\"gitin/gitin/settings/base_settings.py\"), File(sha=\"cace8902f85d234bbdbc256037d9a15435088c84\", filename=\"gitin/gitin/urls.py\"), File(sha=\"2bea0d3cb5cc4554bca5f243adc909dc42b8c407\", filename=\"gitin/templates/base/navbar.html\"), File(sha=\"e69de29bb2d1d6434b8b29ae775ad8c2e48c5391\", filename=\"gitin/users/__init__.py\"), File(sha=\"ebfdf65871246d2f155f1ef3e24485bd510196d9\", filename=\"gitin/users/admin.py\"), File(sha=\"4ce1fabc032a21e92bb0e0299a650bcdc4fffefe\", filename=\"gitin/users/apps.py\"), File(sha=\"31ae4b5394ca013554724210b8f38d651e6c76a4\", filename=\"gitin/users/forms.py\"), File(sha=\"c8072cdf257c2722c4bc3502ebced3edefc67ed5\", filename=\"gitin/users/managers.py\"), File(sha=\"b20c1997bf0dd56bbcf2a34595cc16a76d7fb515\", filename=\"gitin/users/migrations/0001_initial.py\"), File(sha=\"bcdf4a9260e1b9a6b4746a3e20e492efac78bc4a\", filename=\"gitin/users/migrations/0002_auto_20210219_2220.py\"), File(sha=\"e69de29bb2d1d6434b8b29ae775ad8c2e48c5391\", filename=\"gitin/users/migrations/__init__.py\"), File(sha=\"580482a80a30cd84192482ead49733fadf53011d\", filename=\"gitin/users/models.py\"), File(sha=\"bc1bc8a54e37a6919741ae2ef8fc2488d4e2a8a2\", filename=\"gitin/users/templates/users/login_page.html\"), File(sha=\"f7b7b5d5d20b85952d83c0f2ef86c38215da9239\", filename=\"gitin/users/templates/users/signup_page.html\"), File(sha=\"7ce503c2dd97ba78597f6ff6e4393132753573f6\", filename=\"gitin/users/tests.py\"), File(sha=\"bdd857e3073aad54b18b4226dc43b27a52029e75\", filename=\"gitin/users/urls.py\"), File(sha=\"a55c07a832b0c24bcba8374c091c6f49cb2828d1\", filename=\"gitin/users/views.py\"), File(sha=\"e41fd483a003bf11c250e8dd678e15986b7eb63e\", filename=\"jupyter/get_commits_data.ipynb\")]\n",
      "Junha Moon\n",
      "Docs: README update\n"
     ]
    },
    {
     "name": "stdout",
     "output_type": "stream",
     "text": [
      "[File(sha=\"c12ed72f84bc36df79a8a83fa91e9957361dd904\", filename=\"README.md\")]\n",
      "Junha Moon\n",
      "Feat: added RepoCommit and create method in view\n",
      "\n",
      "uses github API to get most recent 30 commits per repo\n",
      "[File(sha=\"0138439acfb664215aadbee7353bab1836c7ff05\", filename=\".gitignore\"), File(sha=\"82e09abd0cce58e3538cebb3d3e450a32222f208\", filename=\"gitin/gitAPI/admin.py\"), File(sha=\"267f823662d6847780bc0a9a7783c6ac833555f5\", filename=\"gitin/gitAPI/migrations/0010_repocommit.py\"), File(sha=\"bc1712a5548cdb4657af8b78e29662254b7474a0\", filename=\"gitin/gitAPI/migrations/0011_auto_20210219_0216.py\"), File(sha=\"3faa658692d0e2487fdaa683f2e0117386778ec8\", filename=\"gitin/gitAPI/models.py\"), File(sha=\"45f544d4ddd8ecbb126901fc8722022e76ecd2b2\", filename=\"gitin/gitAPI/views.py\"), File(sha=\"8515dfdf46a652abeba7bffbcfb635ae89d1ab0c\", filename=\"gitin/templates/base/navbar.html\"), File(sha=\"9b89097b2b39535d2ffd7dfeaf3fd52cf19e0998\", filename=\"jupyter/get_commits_data.ipynb\")]\n",
      "Junha Moon\n",
      "Merge pull request #7 from ririro93/repo\n",
      "\n",
      "Repo\n",
      "[File(sha=\"b0e927f19a9f0176bcfa0c5339768732ade4dba2\", filename=\"README.md\"), File(sha=\"e86034a64d58a82443b81b6b2726ed91dc91ee40\", filename=\"gitin/gitAPI/admin.py\"), File(sha=\"d8d502c0ea9c9f9aad4cde5b00ad5bbe15eae305\", filename=\"gitin/gitAPI/forms.py\"), File(sha=\"4a3bb122ab785aa97d5f5fdaec602243ff5c7e01\", filename=\"gitin/gitAPI/migrations/0006_repocomments.py\"), File(sha=\"31c8cf56bf02b668bc2b3eb9d7be2a427cd97825\", filename=\"gitin/gitAPI/migrations/0007_repocomments_updated.py\"), File(sha=\"ad67953c70661aa09b23019a74448b6138d520f1\", filename=\"gitin/gitAPI/migrations/0008_auto_20210218_1706.py\"), File(sha=\"cf51f568cc31d936dbc9d3b72259f8f81ca96c71\", filename=\"gitin/gitAPI/migrations/0009_auto_20210218_1827.py\"), File(sha=\"997c586ca32330c9c0697c9c62315194759b51bb\", filename=\"gitin/gitAPI/models.py\"), File(sha=\"c67634207275242e11c70f568971402298abe618\", filename=\"gitin/gitAPI/templates/gitAPI/githubrepo_detail.html\"), File(sha=\"d26ca528a0034b8427a3d64aa53ef48058c68a46\", filename=\"gitin/gitAPI/urls.py\"), File(sha=\"bf18dff94093ec1c163c7aacbc951356b74e679d\", filename=\"gitin/gitAPI/views.py\")]\n",
      "Junha Moon\n",
      "Feat: added RepoDetailView to show repo details\n",
      "[File(sha=\"cf51f568cc31d936dbc9d3b72259f8f81ca96c71\", filename=\"gitin/gitAPI/migrations/0009_auto_20210218_1827.py\"), File(sha=\"997c586ca32330c9c0697c9c62315194759b51bb\", filename=\"gitin/gitAPI/models.py\"), File(sha=\"c67634207275242e11c70f568971402298abe618\", filename=\"gitin/gitAPI/templates/gitAPI/githubrepo_detail.html\"), File(sha=\"bf18dff94093ec1c163c7aacbc951356b74e679d\", filename=\"gitin/gitAPI/views.py\")]\n",
      "Junha Moon\n",
      "Refactor: removed repo app and combined with gitAPI app\n",
      "[File(sha=\"b0e927f19a9f0176bcfa0c5339768732ade4dba2\", filename=\"README.md\"), File(sha=\"d8d502c0ea9c9f9aad4cde5b00ad5bbe15eae305\", filename=\"gitin/gitAPI/forms.py\"), File(sha=\"d26ca528a0034b8427a3d64aa53ef48058c68a46\", filename=\"gitin/gitAPI/urls.py\"), File(sha=\"d7a73aa2acf919c8052dd3a042c66fb858de8f16\", filename=\"gitin/gitAPI/views.py\"), File(sha=\"2526df7ff5a8e1ca4606f5a97702a97881903aaa\", filename=\"gitin/gitin/settings/base_settings.py\"), File(sha=\"000209901ecfc38120d2e940a31398eb4b77976a\", filename=\"gitin/gitin/urls.py\"), File(sha=\"e69de29bb2d1d6434b8b29ae775ad8c2e48c5391\", filename=\"gitin/repo/__init__.py\"), File(sha=\"8c38f3f3dad51e4585f3984282c2a4bec5349c1e\", filename=\"gitin/repo/admin.py\"), File(sha=\"df77a5b84bd93b72142d2e97eab68a27b538cc70\", filename=\"gitin/repo/apps.py\"), File(sha=\"e69de29bb2d1d6434b8b29ae775ad8c2e48c5391\", filename=\"gitin/repo/migrations/__init__.py\"), File(sha=\"71a836239075aa6e6e4ecb700e9c42c95c022d91\", filename=\"gitin/repo/models.py\"), File(sha=\"41a780cb40d42f64bd9304a263ef707392b44e63\", filename=\"gitin/repo/templates/repo/repo_detail.html\"), File(sha=\"7ce503c2dd97ba78597f6ff6e4393132753573f6\", filename=\"gitin/repo/tests.py\"), File(sha=\"7b2a9c7be9a1b31fbb0c8827f5813650a00e18c0\", filename=\"gitin/repo/urls.py\"), File(sha=\"5fa1818eb5553246b6c2442b3e143e476ccd03e1\", filename=\"gitin/repo/views.py\")]\n",
      "Junha Moon\n",
      "Feat: git repo view\n",
      "\n",
      "added RepoComment model, commenting functionality to repos\n",
      "[File(sha=\"6ad0a2981e6862316263f6186a1b859560589519\", filename=\"README.md\"), File(sha=\"e86034a64d58a82443b81b6b2726ed91dc91ee40\", filename=\"gitin/gitAPI/admin.py\"), File(sha=\"4a3bb122ab785aa97d5f5fdaec602243ff5c7e01\", filename=\"gitin/gitAPI/migrations/0006_repocomments.py\"), File(sha=\"31c8cf56bf02b668bc2b3eb9d7be2a427cd97825\", filename=\"gitin/gitAPI/migrations/0007_repocomments_updated.py\"), File(sha=\"ad67953c70661aa09b23019a74448b6138d520f1\", filename=\"gitin/gitAPI/migrations/0008_auto_20210218_1706.py\"), File(sha=\"47654fee2264561f55b74c4347ccfea7bea3d396\", filename=\"gitin/gitAPI/models.py\"), File(sha=\"41a780cb40d42f64bd9304a263ef707392b44e63\", filename=\"gitin/gitAPI/templates/gitAPI/githubrepo_detail.html\"), File(sha=\"83f3128526ce74006c076b7a2e40bb6eae55cfce\", filename=\"gitin/gitin/settings/base_settings.py\"), File(sha=\"3a9c810fa5f46321563e6e10348d7091d62ee5b6\", filename=\"gitin/gitin/urls.py\"), File(sha=\"e69de29bb2d1d6434b8b29ae775ad8c2e48c5391\", filename=\"gitin/repo/__init__.py\"), File(sha=\"8c38f3f3dad51e4585f3984282c2a4bec5349c1e\", filename=\"gitin/repo/admin.py\"), File(sha=\"df77a5b84bd93b72142d2e97eab68a27b538cc70\", filename=\"gitin/repo/apps.py\"), File(sha=\"bc1fab4e7942b17de3e6e5a1c2b0eef823eb6fbe\", filename=\"gitin/repo/forms.py\"), File(sha=\"e69de29bb2d1d6434b8b29ae775ad8c2e48c5391\", filename=\"gitin/repo/migrations/__init__.py\"), File(sha=\"71a836239075aa6e6e4ecb700e9c42c95c022d91\", filename=\"gitin/repo/models.py\"), File(sha=\"41a780cb40d42f64bd9304a263ef707392b44e63\", filename=\"gitin/repo/templates/repo/repo_detail.html\"), File(sha=\"7ce503c2dd97ba78597f6ff6e4393132753573f6\", filename=\"gitin/repo/tests.py\"), File(sha=\"7b2a9c7be9a1b31fbb0c8827f5813650a00e18c0\", filename=\"gitin/repo/urls.py\"), File(sha=\"5fa1818eb5553246b6c2442b3e143e476ccd03e1\", filename=\"gitin/repo/views.py\")]\n",
      "Junha Moon\n",
      "Merge pull request #6 from ririro93/gitAPI\n",
      "\n",
      "Git api\n",
      "[File(sha=\"6c7fce72cdca525d3ee92ef067c2e05441e8e931\", filename=\"README.md\"), File(sha=\"e1c09e489443a25fcee43920fddcff2893e1c79c\", filename=\"gitin/accounts/admin.py\"), File(sha=\"550b7e5293970e1932ead95253ec0ef3314e012e\", filename=\"gitin/accounts/migrations/0001_initial.py\"), File(sha=\"04bfcb9c091d651a59789a811d277742542a725a\", filename=\"gitin/accounts/migrations/0002_auto_20210217_2356.py\"), File(sha=\"f4c31bbfbf63117467299f676bb0f4eedff67ac1\", filename=\"gitin/accounts/migrations/0003_gitinuser_profile_img.py\"), File(sha=\"762fb0df5fc1e81ab3234e78cad67f9f1fb6f2a4\", filename=\"gitin/accounts/models.py\"), File(sha=\"637bc2eaf6cd6c30d907aab9d4845e6ac3985613\", filename=\"gitin/accounts/views.py\"), File(sha=\"efcf19e24f2a3714ca983512bbbebd39752557f6\", filename=\"gitin/gitAPI/admin.py\"), File(sha=\"141f8bc366b8561811d68c6939beaa3a6adafaac\", filename=\"gitin/gitAPI/migrations/0004_auto_20210217_2345.py\"), File(sha=\"0d3dff72e7894cdec8da97ea175ea51ab501db08\", filename=\"gitin/gitAPI/migrations/0005_auto_20210217_2350.py\"), File(sha=\"7f12f33735b74cbf1ad81382f5be30e7e968d5cf\", filename=\"gitin/gitAPI/models.py\"), File(sha=\"baab259717ceebd013f5838b3996f0449665e200\", filename=\"gitin/gitAPI/views.py\"), File(sha=\"e69de29bb2d1d6434b8b29ae775ad8c2e48c5391\", filename=\"gitin/gitin/models.py\"), File(sha=\"2526df7ff5a8e1ca4606f5a97702a97881903aaa\", filename=\"gitin/gitin/settings/base_settings.py\"), File(sha=\"000209901ecfc38120d2e940a31398eb4b77976a\", filename=\"gitin/gitin/urls.py\"), File(sha=\"d48b37a29926c098febdbc6c6eb62069b7103aee\", filename=\"gitin/static/css/base.css\"), File(sha=\"29c5a76184b04558186fe1ae4e0b5bc3ba299ba6\", filename=\"gitin/templates/base/navbar.html\"), File(sha=\"ce8614cf5a41aa094163afab5bc83ea479feea30\", filename=\"requirements.txt\")]\n",
      "Junha Moon\n",
      "Docs: README update\n",
      "[File(sha=\"6c7fce72cdca525d3ee92ef067c2e05441e8e931\", filename=\"README.md\")]\n",
      "Junha Moon\n",
      "Feat: dropdown and profile img added to navbar\n",
      "[File(sha=\"e69de29bb2d1d6434b8b29ae775ad8c2e48c5391\", filename=\"gitin/gitin/models.py\"), File(sha=\"2526df7ff5a8e1ca4606f5a97702a97881903aaa\", filename=\"gitin/gitin/settings/base_settings.py\"), File(sha=\"000209901ecfc38120d2e940a31398eb4b77976a\", filename=\"gitin/gitin/urls.py\"), File(sha=\"d48b37a29926c098febdbc6c6eb62069b7103aee\", filename=\"gitin/static/css/base.css\"), File(sha=\"29c5a76184b04558186fe1ae4e0b5bc3ba299ba6\", filename=\"gitin/templates/base/navbar.html\"), File(sha=\"ce8614cf5a41aa094163afab5bc83ea479feea30\", filename=\"requirements.txt\")]\n",
      "Junha Moon\n",
      "Feat: added new model GitinUser\n",
      "\n",
      "this extends the default User model to hold extra non-auth related data\n"
     ]
    },
    {
     "name": "stdout",
     "output_type": "stream",
     "text": [
      "[File(sha=\"e1c09e489443a25fcee43920fddcff2893e1c79c\", filename=\"gitin/accounts/admin.py\"), File(sha=\"550b7e5293970e1932ead95253ec0ef3314e012e\", filename=\"gitin/accounts/migrations/0001_initial.py\"), File(sha=\"04bfcb9c091d651a59789a811d277742542a725a\", filename=\"gitin/accounts/migrations/0002_auto_20210217_2356.py\"), File(sha=\"f4c31bbfbf63117467299f676bb0f4eedff67ac1\", filename=\"gitin/accounts/migrations/0003_gitinuser_profile_img.py\"), File(sha=\"762fb0df5fc1e81ab3234e78cad67f9f1fb6f2a4\", filename=\"gitin/accounts/models.py\"), File(sha=\"637bc2eaf6cd6c30d907aab9d4845e6ac3985613\", filename=\"gitin/accounts/views.py\"), File(sha=\"efcf19e24f2a3714ca983512bbbebd39752557f6\", filename=\"gitin/gitAPI/admin.py\"), File(sha=\"141f8bc366b8561811d68c6939beaa3a6adafaac\", filename=\"gitin/gitAPI/migrations/0004_auto_20210217_2345.py\"), File(sha=\"0d3dff72e7894cdec8da97ea175ea51ab501db08\", filename=\"gitin/gitAPI/migrations/0005_auto_20210217_2350.py\"), File(sha=\"7f12f33735b74cbf1ad81382f5be30e7e968d5cf\", filename=\"gitin/gitAPI/models.py\"), File(sha=\"baab259717ceebd013f5838b3996f0449665e200\", filename=\"gitin/gitAPI/views.py\")]\n",
      "Junha Moon\n",
      "Docs: README update\n",
      "[File(sha=\"b7f4f9dad5170600d65eed3a19f326222872399e\", filename=\"README.md\")]\n",
      "Junha Moon\n",
      "Docs: README update\n",
      "[File(sha=\"62bdc1e37c0431ef3c519723d07dd073a9d6fbd3\", filename=\"gitin/gitAPI/views.py\")]\n",
      "Junha Moon\n",
      "Merge pull request #5 from ririro93/crawling\n",
      "\n",
      "Crawling\n",
      "[File(sha=\"dd15c52beb16893aa3897da670e14452e211773b\", filename=\"README.md\"), File(sha=\"aa8f517e2fcf75e6861bcd784a6236a3cd3eb8a1\", filename=\"gitin/gitAPI/admin.py\"), File(sha=\"d1b5225d932d59ee3d40482c5c645ac38c41856c\", filename=\"gitin/gitAPI/migrations/0001_initial.py\"), File(sha=\"651fd25caba91db10a241ffc11a22c1edb8cf478\", filename=\"gitin/gitAPI/migrations/0002_auto_20210217_0139.py\"), File(sha=\"5fe8575cef77406113f9eb5651414ae1c30755b3\", filename=\"gitin/gitAPI/migrations/0003_auto_20210217_0141.py\"), File(sha=\"ea760207fbc0d332831ff372af352af4aa9254be\", filename=\"gitin/gitAPI/models.py\"), File(sha=\"6bc171b77adb424bf4234c5f6a54804f0860ab7e\", filename=\"gitin/gitAPI/urls.py\"), File(sha=\"1aa81b58e9cc7adf141a315d0810fb2d8c37dcf0\", filename=\"gitin/gitAPI/views.py\"), File(sha=\"1aed4021e4573e8b190556e6fd2c0a185bcc5116\", filename=\"gitin/gitin/settings/base_settings.py\"), File(sha=\"8c87f553ea7e77c29fa8fdf975ebd33192684eb8\", filename=\"gitin/gitin/settings/dev.py\"), File(sha=\"d34b93e7d04c18c9dc285a5a6a4abc8765d846cd\", filename=\"gitin/templates/base/navbar.html\")]\n",
      "Junha Moon\n",
      "Docs: README updated\n",
      "[File(sha=\"fa77a355957025a3a14b49e53beed015c63d94ca\", filename=\"README.md\")]\n",
      "Junha Moon\n",
      "Feat: created GithubUser and GithubRepo models\n",
      "\n",
      "also, entering a username on the navbar creates or updates the both models through CreateGithubRepo view\n",
      "which should probably be named better\n",
      "[File(sha=\"f4f2a8d3520eb38fe60e372f9febedd8b3cb9f0c\", filename=\"README.md\"), File(sha=\"aa8f517e2fcf75e6861bcd784a6236a3cd3eb8a1\", filename=\"gitin/gitAPI/admin.py\"), File(sha=\"d1b5225d932d59ee3d40482c5c645ac38c41856c\", filename=\"gitin/gitAPI/migrations/0001_initial.py\"), File(sha=\"651fd25caba91db10a241ffc11a22c1edb8cf478\", filename=\"gitin/gitAPI/migrations/0002_auto_20210217_0139.py\"), File(sha=\"5fe8575cef77406113f9eb5651414ae1c30755b3\", filename=\"gitin/gitAPI/migrations/0003_auto_20210217_0141.py\"), File(sha=\"ea760207fbc0d332831ff372af352af4aa9254be\", filename=\"gitin/gitAPI/models.py\"), File(sha=\"6bc171b77adb424bf4234c5f6a54804f0860ab7e\", filename=\"gitin/gitAPI/urls.py\"), File(sha=\"1aa81b58e9cc7adf141a315d0810fb2d8c37dcf0\", filename=\"gitin/gitAPI/views.py\"), File(sha=\"1aed4021e4573e8b190556e6fd2c0a185bcc5116\", filename=\"gitin/gitin/settings/base_settings.py\"), File(sha=\"8c87f553ea7e77c29fa8fdf975ebd33192684eb8\", filename=\"gitin/gitin/settings/dev.py\"), File(sha=\"d34b93e7d04c18c9dc285a5a6a4abc8765d846cd\", filename=\"gitin/templates/base/navbar.html\")]\n",
      "Junha Moon\n",
      "Merge pull request #4 from ririro93/crawling\n",
      "\n",
      "Crawling\n",
      "[File(sha=\"9cf74b566d1397c3fd6abc3a1c82f5f2b893e547\", filename=\"README.md\"), File(sha=\"bdd857e3073aad54b18b4226dc43b27a52029e75\", filename=\"gitin/accounts/urls.py\"), File(sha=\"e69de29bb2d1d6434b8b29ae775ad8c2e48c5391\", filename=\"gitin/gitAPI/__init__.py\"), File(sha=\"8c38f3f3dad51e4585f3984282c2a4bec5349c1e\", filename=\"gitin/gitAPI/admin.py\"), File(sha=\"eeb5eaffd5f0df4681d86d9c6662a5e493940ead\", filename=\"gitin/gitAPI/apps.py\"), File(sha=\"e69de29bb2d1d6434b8b29ae775ad8c2e48c5391\", filename=\"gitin/gitAPI/migrations/__init__.py\"), File(sha=\"71a836239075aa6e6e4ecb700e9c42c95c022d91\", filename=\"gitin/gitAPI/models.py\"), File(sha=\"7ce503c2dd97ba78597f6ff6e4393132753573f6\", filename=\"gitin/gitAPI/tests.py\"), File(sha=\"4298c1e98d6659a609c6cf622b2db779cd204967\", filename=\"gitin/gitAPI/urls.py\"), File(sha=\"370ca26c0805eeee90350f49b31e3c27ebcfc5a1\", filename=\"gitin/gitAPI/views.py\"), File(sha=\"fa2210cff90b419bc92ecf8b4cb41eaf8eec91c9\", filename=\"gitin/gitin/urls.py\")]\n",
      "Junha Moon\n",
      "Docs: README update\n",
      "[File(sha=\"3e7605bac87cc50961cdac03240734c11258d316\", filename=\"README.md\")]\n",
      "Junha Moon\n",
      "Docs: README updated\n",
      "[File(sha=\"3246d462c3863e012a09d32d2cdde5858414b7fd\", filename=\"README.md\")]\n",
      "Junha Moon\n",
      "Feat: started new app gitAPI\n",
      "\n",
      "gitAPI is where all the requests to git API are made.\n",
      "added GithubView where all repo data of a user can be GET requested and processed\n",
      "[File(sha=\"bdd857e3073aad54b18b4226dc43b27a52029e75\", filename=\"gitin/accounts/urls.py\"), File(sha=\"e69de29bb2d1d6434b8b29ae775ad8c2e48c5391\", filename=\"gitin/gitAPI/__init__.py\"), File(sha=\"8c38f3f3dad51e4585f3984282c2a4bec5349c1e\", filename=\"gitin/gitAPI/admin.py\"), File(sha=\"eeb5eaffd5f0df4681d86d9c6662a5e493940ead\", filename=\"gitin/gitAPI/apps.py\"), File(sha=\"e69de29bb2d1d6434b8b29ae775ad8c2e48c5391\", filename=\"gitin/gitAPI/migrations/__init__.py\"), File(sha=\"71a836239075aa6e6e4ecb700e9c42c95c022d91\", filename=\"gitin/gitAPI/models.py\"), File(sha=\"7ce503c2dd97ba78597f6ff6e4393132753573f6\", filename=\"gitin/gitAPI/tests.py\"), File(sha=\"4298c1e98d6659a609c6cf622b2db779cd204967\", filename=\"gitin/gitAPI/urls.py\"), File(sha=\"370ca26c0805eeee90350f49b31e3c27ebcfc5a1\", filename=\"gitin/gitAPI/views.py\"), File(sha=\"fa2210cff90b419bc92ecf8b4cb41eaf8eec91c9\", filename=\"gitin/gitin/urls.py\")]\n",
      "Youngwoo Kim\n",
      "Docs: README updated\n",
      "[File(sha=\"17b3202241eb13299986fc84bcbd09c921a695af\", filename=\"README.md\")]\n",
      "Junha Moon\n",
      "Merge pull request #3 from ririro93/accounts\n",
      "\n",
      "Accounts\n",
      "[File(sha=\"a21ecd6a024f6fa84c44d088a4c9d0ae8f67ce84\", filename=\"README.md\"), File(sha=\"bc1bc8a54e37a6919741ae2ef8fc2488d4e2a8a2\", filename=\"gitin/accounts/templates/accounts/login_page.html\"), File(sha=\"f7b7b5d5d20b85952d83c0f2ef86c38215da9239\", filename=\"gitin/accounts/templates/accounts/signup_page.html\"), File(sha=\"15d8af6a6c5e79197422d5e8c4c0346423709eb4\", filename=\"gitin/accounts/urls.py\"), File(sha=\"c616a191bcd753f9ca9c22b05e96f7c3407801a7\", filename=\"gitin/accounts/views.py\"), File(sha=\"5fb50590d8a087bee91bbeedafac8f26dfa9952b\", filename=\"gitin/gitin/settings/base.py\"), File(sha=\"415444ad1411d4477bfab390d2315e4aaee9154f\", filename=\"gitin/gitin/urls.py\"), File(sha=\"37ea9e9589d5ea2a626ff683fb6bd7a4879062a6\", filename=\"gitin/templates/base/navbar.html\")]\n",
      "Junha Moon\n",
      "Feat: Sign up page added\n",
      "\n",
      "also added link from Sign up page to login page and vice-versa\n",
      "[File(sha=\"a21ecd6a024f6fa84c44d088a4c9d0ae8f67ce84\", filename=\"README.md\"), File(sha=\"bc1bc8a54e37a6919741ae2ef8fc2488d4e2a8a2\", filename=\"gitin/accounts/templates/accounts/login_page.html\"), File(sha=\"f7b7b5d5d20b85952d83c0f2ef86c38215da9239\", filename=\"gitin/accounts/templates/accounts/signup_page.html\"), File(sha=\"15d8af6a6c5e79197422d5e8c4c0346423709eb4\", filename=\"gitin/accounts/urls.py\"), File(sha=\"c616a191bcd753f9ca9c22b05e96f7c3407801a7\", filename=\"gitin/accounts/views.py\"), File(sha=\"5fb50590d8a087bee91bbeedafac8f26dfa9952b\", filename=\"gitin/gitin/settings/base.py\"), File(sha=\"415444ad1411d4477bfab390d2315e4aaee9154f\", filename=\"gitin/gitin/urls.py\"), File(sha=\"37ea9e9589d5ea2a626ff683fb6bd7a4879062a6\", filename=\"gitin/templates/base/navbar.html\")]\n",
      "Junha Moon\n",
      "Docs: README updated\n",
      "[File(sha=\"feb69b6e65516f26937d5cc6e5b979c085d4bc4f\", filename=\"README.md\")]\n",
      "Junha Moon\n",
      "Merge pull request #2 from ririro93/accounts\n",
      "\n",
      "Feat: twitter login added\n",
      "[File(sha=\"f7e1ec71c84187e87950d295c1ae98d52424fbd2\", filename=\"README.md\"), File(sha=\"aa688ddeebb3b7764867a7a118035a93c20423ee\", filename=\"gitin/accounts/templates/accounts/github_login.html\"), File(sha=\"cf2e83801ff931fd4b6baf323280886bfc5e7358\", filename=\"gitin/accounts/templates/accounts/google_login.html\"), File(sha=\"21267a16444467dda34f6ca3a202539872c26c55\", filename=\"gitin/accounts/templates/accounts/login_page.html\"), File(sha=\"fb8128179bb82fe2e3f75dca1b5fc1ac3044b6ba\", filename=\"gitin/accounts/urls.py\"), File(sha=\"83f790c85e88744573ae4a1ed9ac4b92369f7c17\", filename=\"gitin/gitin/settings/base.py\")]\n",
      "Junha Moon\n",
      "Feat: twitter login added\n"
     ]
    },
    {
     "name": "stdout",
     "output_type": "stream",
     "text": [
      "[File(sha=\"f7e1ec71c84187e87950d295c1ae98d52424fbd2\", filename=\"README.md\"), File(sha=\"aa688ddeebb3b7764867a7a118035a93c20423ee\", filename=\"gitin/accounts/templates/accounts/github_login.html\"), File(sha=\"cf2e83801ff931fd4b6baf323280886bfc5e7358\", filename=\"gitin/accounts/templates/accounts/google_login.html\"), File(sha=\"21267a16444467dda34f6ca3a202539872c26c55\", filename=\"gitin/accounts/templates/accounts/login_page.html\"), File(sha=\"fb8128179bb82fe2e3f75dca1b5fc1ac3044b6ba\", filename=\"gitin/accounts/urls.py\"), File(sha=\"83f790c85e88744573ae4a1ed9ac4b92369f7c17\", filename=\"gitin/gitin/settings/base.py\")]\n",
      "Junha Moon\n",
      "Docs: README update\n",
      "[File(sha=\"b68b4295e74de53ee55616896bd75151c8403f30\", filename=\"README.md\")]\n",
      "Junha Moon\n",
      "Feat: github login added\n",
      "[File(sha=\"aa688ddeebb3b7764867a7a118035a93c20423ee\", filename=\"gitin/accounts/templates/accounts/github_login.html\"), File(sha=\"0617185eb1a27f475b34a8d10889f9e4eafefa44\", filename=\"gitin/accounts/templates/accounts/login_page.html\"), File(sha=\"b42343823101dc1d4afde80faabbab89366d98da\", filename=\"gitin/accounts/urls.py\"), File(sha=\"11181a5daf1f88d5fcf1a65b40324a07ace88719\", filename=\"gitin/gitin/settings/base.py\"), File(sha=\"29450d22d8c2ae2a26cdd7f68b1238b8cd4eb503\", filename=\"gitin/templates/base.html\"), File(sha=\"545c4daf7ef7d51249c275a8d99e31cf7e7238b2\", filename=\"gitin/templates/base/navbar.html\")]\n",
      "Junha Moon\n",
      "Refactor: changed register to signup and capitalized navbar menus\n",
      "[File(sha=\"f19c292ec0f824e9d830cb5042dbc0574956e121\", filename=\"README.md\"), File(sha=\"31ae4b5394ca013554724210b8f38d651e6c76a4\", filename=\"gitin/accounts/forms.py\"), File(sha=\"183c646d215741b5a9e8aa91d50744462b17c131\", filename=\"gitin/accounts/urls.py\"), File(sha=\"6d2b1b37a617c85d5e8bf00a4621ff0c911bd73b\", filename=\"gitin/accounts/views.py\"), File(sha=\"6e89fc5b5113c4b74835839c7b80c79ba9e09089\", filename=\"gitin/templates/base/navbar.html\")]\n",
      "Junha Moon\n",
      "Style: README\n",
      "[File(sha=\"5a529fd34c41a0c88d7c3948ee24888a009da388\", filename=\"README.md\")]\n",
      "Junha Moon\n",
      "Fix: navbar redirects to correct url now\n",
      "\n",
      "used {% url login %} to fix this issue\n",
      "[File(sha=\"ca3aa6e815b51d7dfc98abc2215ae4e9ee24cac1\", filename=\"README.md\"), File(sha=\"669b6f4d11894e13c8346e758dc253b45a093e8a\", filename=\"gitin/templates/base/navbar.html\")]\n",
      "Junha Moon\n",
      "Fix: google oauth reconnected to google icon\n",
      "[File(sha=\"58404c20f0fbf72f9b8877ab8f5610b6fc19b890\", filename=\"README.md\"), File(sha=\"77e772dd9400359485395a19dfced69959967197\", filename=\"gitin/accounts/templates/accounts/login_page.html\"), File(sha=\"f9f9a41a94fef64c23c9523a81d3f26ee9d43653\", filename=\"gitin/accounts/urls.py\"), File(sha=\"9e12e0e38ec6bd7290a231ebb2ae2c480850da8b\", filename=\"gitin/accounts/views.py\"), File(sha=\"39f0d467911c152704b12ec939265510d8d03515\", filename=\"gitin/gitin/urls.py\")]\n",
      "Junha Moon\n",
      "Chore: README added\n",
      "[File(sha=\"99f475eed05e17ff956ef16f9cec6fdca770eb70\", filename=\"README.md\")]\n",
      "Junha Moon\n",
      "Chore: README new todos, Feat: profile app created\n",
      "\n",
      "profile app is used to show public user info to others whereas accounts app is where users manage their own private info\n",
      "[File(sha=\"d6911fb00b4956232f10773a5c33114ba7185139\", filename=\"README.md\"), File(sha=\"c6d73b740393645c120c6688de67152be3d2ddf8\", filename=\"gitin/accounts/forms.py\"), File(sha=\"f610a756a29b30f9c2d0d26483fdbdd4801afb17\", filename=\"gitin/gitin/settings/base.py\"), File(sha=\"e69de29bb2d1d6434b8b29ae775ad8c2e48c5391\", filename=\"gitin/profiles/__init__.py\"), File(sha=\"8c38f3f3dad51e4585f3984282c2a4bec5349c1e\", filename=\"gitin/profiles/admin.py\"), File(sha=\"5501fdad352cf444c6a7fd60ecd52b5d00729aa9\", filename=\"gitin/profiles/apps.py\"), File(sha=\"e69de29bb2d1d6434b8b29ae775ad8c2e48c5391\", filename=\"gitin/profiles/migrations/__init__.py\"), File(sha=\"71a836239075aa6e6e4ecb700e9c42c95c022d91\", filename=\"gitin/profiles/models.py\"), File(sha=\"7ce503c2dd97ba78597f6ff6e4393132753573f6\", filename=\"gitin/profiles/tests.py\"), File(sha=\"91ea44a218fbd2f408430959283f0419c921093e\", filename=\"gitin/profiles/views.py\"), File(sha=\"7d2b1627c4d912ce07b52b99ee1447ea62ce9b9e\", filename=\"gitin/templates/base/messages.html\"), File(sha=\"507b27155842db502a8f8ddac75e6fccad9a4899\", filename=\"requirements.txt\")]\n",
      "Youngwoo Kim\n",
      "Fix: gitignore now ignores Pipfile\n",
      "[File(sha=\"f9712be0f2556263b5df1c2f5def267c2cdd30fe\", filename=\".gitignore\")]\n",
      "Junha Moon\n",
      "Fix: gitignore now ignores .vscode/settings.json too\n",
      "[File(sha=\"c39638ce16c13dfb3fa230afe6eabbf6086cdd9d\", filename=\".gitignore\")]\n",
      "Junha Moon\n",
      "Fix: ignore unignored .vscode, Pipfile\n",
      "[File(sha=\"988937c0ab467cc84aa216ee4ba3bd348e434d68\", filename=\".vscode/settings.json\"), File(sha=\"c586c5ad1aace014d14e025ea63f69009b067399\", filename=\"Pipfile\")]\n",
      "Junha Moon\n",
      "Merge branch 'master' of https://github.com/ririro93/gitin\n",
      "[File(sha=\"988937c0ab467cc84aa216ee4ba3bd348e434d68\", filename=\".vscode/settings.json\"), File(sha=\"c586c5ad1aace014d14e025ea63f69009b067399\", filename=\"Pipfile\"), File(sha=\"6b59cd67060521a8741161792b8a554dc9293073\", filename=\"gitin/accounts/templates/accounts/login_page.html\")]\n",
      "Youngwoo Kim\n",
      "Merge branch 'master' of https://github.com/ririro93/gitin\n",
      "chore: leanring git\n",
      "[File(sha=\"4247fa8de2c3718a3a9da504ceb5af80bbecc19e\", filename=\"README.md\"), File(sha=\"cf2e83801ff931fd4b6baf323280886bfc5e7358\", filename=\"gitin/accounts/templates/accounts/google_login.html\"), File(sha=\"d2404576a4ba4866c940d055d5f273a3fb75cf4d\", filename=\"gitin/accounts/views.py\"), File(sha=\"e69de29bb2d1d6434b8b29ae775ad8c2e48c5391\", filename=\"gitin/social_app/__init__.py\"), File(sha=\"8c38f3f3dad51e4585f3984282c2a4bec5349c1e\", filename=\"gitin/social_app/admin.py\"), File(sha=\"28bcaf940c70ed1d9feaa6001d3b0b01684c5cf6\", filename=\"gitin/social_app/apps.py\"), File(sha=\"e69de29bb2d1d6434b8b29ae775ad8c2e48c5391\", filename=\"gitin/social_app/migrations/__init__.py\"), File(sha=\"71a836239075aa6e6e4ecb700e9c42c95c022d91\", filename=\"gitin/social_app/models.py\"), File(sha=\"7ce503c2dd97ba78597f6ff6e4393132753573f6\", filename=\"gitin/social_app/tests.py\"), File(sha=\"91ea44a218fbd2f408430959283f0419c921093e\", filename=\"gitin/social_app/views.py\"), File(sha=\"cb1c4c1392693e3c025308cfc489a6095bc79ac4\", filename=\"gitin/templates/base/navbar.html\")]\n",
      "Junha Moon\n",
      "Chore: updated requirements.txt\n",
      "[File(sha=\"78471336cf0419ed10d44e4e61610cb91b6d7b3a\", filename=\"requirements.txt\")]\n",
      "Youngwoo Kim\n",
      "chore: learn git\n",
      "[File(sha=\"988937c0ab467cc84aa216ee4ba3bd348e434d68\", filename=\".vscode/settings.json\"), File(sha=\"c586c5ad1aace014d14e025ea63f69009b067399\", filename=\"Pipfile\"), File(sha=\"6b59cd67060521a8741161792b8a554dc9293073\", filename=\"gitin/accounts/templates/accounts/login_page.html\")]\n",
      "Junha Moon\n",
      "Feat: login button turn into logout button when logged in\n",
      "[File(sha=\"4247fa8de2c3718a3a9da504ceb5af80bbecc19e\", filename=\"README.md\"), File(sha=\"cf2e83801ff931fd4b6baf323280886bfc5e7358\", filename=\"gitin/accounts/templates/accounts/google_login.html\"), File(sha=\"d2404576a4ba4866c940d055d5f273a3fb75cf4d\", filename=\"gitin/accounts/views.py\"), File(sha=\"e69de29bb2d1d6434b8b29ae775ad8c2e48c5391\", filename=\"gitin/social_app/__init__.py\"), File(sha=\"8c38f3f3dad51e4585f3984282c2a4bec5349c1e\", filename=\"gitin/social_app/admin.py\"), File(sha=\"28bcaf940c70ed1d9feaa6001d3b0b01684c5cf6\", filename=\"gitin/social_app/apps.py\"), File(sha=\"e69de29bb2d1d6434b8b29ae775ad8c2e48c5391\", filename=\"gitin/social_app/migrations/__init__.py\"), File(sha=\"71a836239075aa6e6e4ecb700e9c42c95c022d91\", filename=\"gitin/social_app/models.py\"), File(sha=\"7ce503c2dd97ba78597f6ff6e4393132753573f6\", filename=\"gitin/social_app/tests.py\"), File(sha=\"91ea44a218fbd2f408430959283f0419c921093e\", filename=\"gitin/social_app/views.py\"), File(sha=\"cb1c4c1392693e3c025308cfc489a6095bc79ac4\", filename=\"gitin/templates/base/navbar.html\")]\n",
      "Junha Moon\n",
      "Feat: added login\n",
      "[File(sha=\"e794dfdeefc9341fb7e259cfd3da45f13f63eeae\", filename=\"README.md\"), File(sha=\"d49fa93dd765f538d3f0c3035eb970c9ae9dd9a0\", filename=\"gitin/accounts/forms.py\"), File(sha=\"039c92c165ff4a6c9c97dae9fdfae15bbfb738ce\", filename=\"gitin/accounts/templates/accounts/login_page.html\"), File(sha=\"4168146580f727c2eee5bbddcd530b57122b6450\", filename=\"gitin/accounts/urls.py\"), File(sha=\"d35dcd7f31e86d415cbfe0dfdf0b9ed97836e6b0\", filename=\"gitin/accounts/views.py\"), File(sha=\"85a58dae37c7a5e4fc42f652f27038620509758c\", filename=\"gitin/gitin/urls.py\"), File(sha=\"b45e9632ff8b7d1ae45f3f1c5ef6b9e32eef8f3d\", filename=\"gitin/static/css/base.css\"), File(sha=\"a87295a47ab9d05f229a9f79308596955f724fa5\", filename=\"gitin/static/css/bootstrap-social.css\"), File(sha=\"e2ae9375b3dd74f3deabe31d29ba521f9cf64a51\", filename=\"gitin/templates/base/css.html\"), File(sha=\"bf3b04ca50aebda6d06accf080c641548dc15f58\", filename=\"gitin/templates/base/navbar.html\")]\n",
      "Junha Moon\n",
      "Feat: google login added\n"
     ]
    },
    {
     "name": "stdout",
     "output_type": "stream",
     "text": [
      "[File(sha=\"6d26223f640221dccb738339654580e01bda3cac\", filename=\"gitin/gitin/settings/base.py\"), File(sha=\"aae18869554f78f95f58a1231a9b31b0303defb7\", filename=\"gitin/gitin/urls.py\"), File(sha=\"e69de29bb2d1d6434b8b29ae775ad8c2e48c5391\", filename=\"gitin/social_app/__init__.py\"), File(sha=\"8c38f3f3dad51e4585f3984282c2a4bec5349c1e\", filename=\"gitin/social_app/admin.py\"), File(sha=\"28bcaf940c70ed1d9feaa6001d3b0b01684c5cf6\", filename=\"gitin/social_app/apps.py\"), File(sha=\"e69de29bb2d1d6434b8b29ae775ad8c2e48c5391\", filename=\"gitin/social_app/migrations/__init__.py\"), File(sha=\"71a836239075aa6e6e4ecb700e9c42c95c022d91\", filename=\"gitin/social_app/models.py\"), File(sha=\"cf2e83801ff931fd4b6baf323280886bfc5e7358\", filename=\"gitin/social_app/templates/social_app/index.html\"), File(sha=\"7ce503c2dd97ba78597f6ff6e4393132753573f6\", filename=\"gitin/social_app/tests.py\"), File(sha=\"91ea44a218fbd2f408430959283f0419c921093e\", filename=\"gitin/social_app/views.py\")]\n",
      "Junha Moon\n",
      "02-14 add: login\n",
      "[File(sha=\"98275be4231ec5d8a8f9ef2a943667ddbb89cf3b\", filename=\".vscode/settings.json\"), File(sha=\"0b4fa4f4c3441ffb23fb8041d89eec225f208c4e\", filename=\"README.md\"), File(sha=\"e69de29bb2d1d6434b8b29ae775ad8c2e48c5391\", filename=\"gitin/accounts/__init__.py\"), File(sha=\"8c38f3f3dad51e4585f3984282c2a4bec5349c1e\", filename=\"gitin/accounts/admin.py\"), File(sha=\"9b3fc5a44939430bfb326ca9a33f80e99b06b5be\", filename=\"gitin/accounts/apps.py\"), File(sha=\"a4f20c7a9e02a81f93dc003ffb3d9fd48e3144b2\", filename=\"gitin/accounts/forms.py\"), File(sha=\"e69de29bb2d1d6434b8b29ae775ad8c2e48c5391\", filename=\"gitin/accounts/migrations/__init__.py\"), File(sha=\"41673526876981bc0c1f52fce3825250bfa02499\", filename=\"gitin/accounts/models.py\"), File(sha=\"7ce503c2dd97ba78597f6ff6e4393132753573f6\", filename=\"gitin/accounts/tests.py\"), File(sha=\"7d4afdec075f257eb58724bea85612ef46d0f309\", filename=\"gitin/accounts/views.py\"), File(sha=\"6fc49a784d1daf8f03893d6ef2bc69c57c2b759b\", filename=\"gitin/gitin/settings/base.py\"), File(sha=\"0d896bb7e4510794fb477b5289acbc8e1af8c3e9\", filename=\"gitin/gitin/settings/dev.py\"), File(sha=\"69aac375d75ad1c69de45896182fc2b728396d9a\", filename=\"gitin/gitin/urls.py\"), File(sha=\"1afb6b2d2e3555b7ac341768e49bfaf1fb7153a9\", filename=\"gitin/gitin/views.py\"), File(sha=\"36076f0e2fd3776ce24e8a050904ac67d4d5a540\", filename=\"gitin/gitin/wsgi.py\"), File(sha=\"ffb8d7579904f155d53ecf9f9ada846e4877868a\", filename=\"gitin/manage.py\"), File(sha=\"ec8cc86f31e5bfa4e5f826224b9e69848205190d\", filename=\"gitin/templates/base.html\"), File(sha=\"134cfbfa52f3bb7dd71e6cf328ee3d6c15a7b99b\", filename=\"gitin/templates/base/css.html\"), File(sha=\"0487e37f1739683e1a7ddfe8211424f4030c6d10\", filename=\"gitin/templates/base/js.html\"), File(sha=\"bc5d77f7cc6dc03f437274e9f71504e885faf4fd\", filename=\"gitin/templates/base/messages.html\"), File(sha=\"1eab8ba0cd3bf46202547597715e4bae3d4f99ba\", filename=\"gitin/templates/base/navbar.html\"), File(sha=\"e235a1ba553f07e6c42e32a2cf68bc463449eff7\", filename=\"gitin/templates/forms.html\"), File(sha=\"87d5dc5cc015fbd955820f941fbe6396717954ae\", filename=\"gitin/templates/home_page.html\"), File(sha=\"40a38d92e12811899c236c9786438206c3803279\", filename=\"gitin/templates/snippets/form.html\"), File(sha=\"c0ee135a11f043a253da9ae90f4c85e838c697f0\", filename=\"requirements.txt\")]\n",
      "Junha Moon\n",
      "02-14 first commit\n",
      "[File(sha=\"572ecd15d659e479d88915027544dae8ee1d175d\", filename=\".gitignore\"), File(sha=\"e69de29bb2d1d6434b8b29ae775ad8c2e48c5391\", filename=\"README.md\"), File(sha=\"e69de29bb2d1d6434b8b29ae775ad8c2e48c5391\", filename=\"gitin/gitin/__init__.py\"), File(sha=\"ad750923585ab5c8713c61e1e8deefa2a962cebb\", filename=\"gitin/gitin/asgi.py\"), File(sha=\"d8a6ebd3c2352045bc6a26acd9e0399aace32bbb\", filename=\"gitin/gitin/settings.py\"), File(sha=\"2130302eec4671efe9ad6689663a8e3c5a08adb2\", filename=\"gitin/gitin/urls.py\"), File(sha=\"f2ee59b6f4b2cc3cbd1ab4a5bf1909eadfb1fd4b\", filename=\"gitin/gitin/wsgi.py\"), File(sha=\"b532528988e3a7ca3c1d1c8ad21be29943d4449e\", filename=\"gitin/manage.py\")]\n"
     ]
    }
   ],
   "source": [
    "commits = repos[7].get_commits()\n",
    "cnt = 0\n",
    "for commit in commits:\n",
    "    print(commit.commit.author.name)\n",
    "    print(commit.commit.message)\n",
    "    print(commit.files)\n",
    "\n",
    "\n"
   ]
  },
  {
   "cell_type": "code",
   "execution_count": 88,
   "id": "lined-mattress",
   "metadata": {
    "ExecuteTime": {
     "end_time": "2021-02-20T11:44:53.084088Z",
     "start_time": "2021-02-20T11:44:53.070091Z"
    }
   },
   "outputs": [
    {
     "data": {
      "text/plain": [
       "[]"
      ]
     },
     "execution_count": 88,
     "metadata": {},
     "output_type": "execute_result"
    }
   ],
   "source": []
  },
  {
   "cell_type": "code",
   "execution_count": null,
   "id": "changed-summit",
   "metadata": {},
   "outputs": [],
   "source": []
  }
 ],
 "metadata": {
  "kernelspec": {
   "display_name": "Python 3",
   "language": "python",
   "name": "python3"
  },
  "language_info": {
   "codemirror_mode": {
    "name": "ipython",
    "version": 3
   },
   "file_extension": ".py",
   "mimetype": "text/x-python",
   "name": "python",
   "nbconvert_exporter": "python",
   "pygments_lexer": "ipython3",
   "version": "3.8.7"
  },
  "toc": {
   "base_numbering": 1,
   "nav_menu": {},
   "number_sections": true,
   "sideBar": true,
   "skip_h1_title": false,
   "title_cell": "Table of Contents",
   "title_sidebar": "Contents",
   "toc_cell": false,
   "toc_position": {},
   "toc_section_display": true,
   "toc_window_display": false
  }
 },
 "nbformat": 4,
 "nbformat_minor": 5
}
