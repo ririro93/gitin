{
 "cells": [
  {
   "cell_type": "code",
   "execution_count": 13,
   "id": "centered-vegetable",
   "metadata": {
    "ExecuteTime": {
     "end_time": "2021-02-18T15:52:12.296034Z",
     "start_time": "2021-02-18T15:52:11.595272Z"
    }
   },
   "outputs": [
    {
     "name": "stdout",
     "output_type": "stream",
     "text": [
      "30\n",
      "{'author': {'avatar_url': 'https://avatars.githubusercontent.com/u/33119135?v=4',\n",
      "            'events_url': 'https://api.github.com/users/ririro93/events{/privacy}',\n",
      "            'followers_url': 'https://api.github.com/users/ririro93/followers',\n",
      "            'following_url': 'https://api.github.com/users/ririro93/following{/other_user}',\n",
      "            'gists_url': 'https://api.github.com/users/ririro93/gists{/gist_id}',\n",
      "            'gravatar_id': '',\n",
      "            'html_url': 'https://github.com/ririro93',\n",
      "            'id': 33119135,\n",
      "            'login': 'ririro93',\n",
      "            'node_id': 'MDQ6VXNlcjMzMTE5MTM1',\n",
      "            'organizations_url': 'https://api.github.com/users/ririro93/orgs',\n",
      "            'received_events_url': 'https://api.github.com/users/ririro93/received_events',\n",
      "            'repos_url': 'https://api.github.com/users/ririro93/repos',\n",
      "            'site_admin': False,\n",
      "            'starred_url': 'https://api.github.com/users/ririro93/starred{/owner}{/repo}',\n",
      "            'subscriptions_url': 'https://api.github.com/users/ririro93/subscriptions',\n",
      "            'type': 'User',\n",
      "            'url': 'https://api.github.com/users/ririro93'},\n",
      " 'comments_url': 'https://api.github.com/repos/ririro93/gitin/commits/5d5f3adeb9d8f12bb04ba706d265ceae3f18e9a3/comments',\n",
      " 'commit': {'author': {'date': '2021-02-18T09:41:54Z',\n",
      "                       'email': '33119135+ririro93@users.noreply.github.com',\n",
      "                       'name': 'Junha Moon'},\n",
      "            'comment_count': 0,\n",
      "            'committer': {'date': '2021-02-18T09:41:54Z',\n",
      "                          'email': 'noreply@github.com',\n",
      "                          'name': 'GitHub'},\n",
      "            'message': 'Merge pull request #7 from ririro93/repo\\n\\nRepo',\n",
      "            'tree': {'sha': '820e241cedc38e976137af9fc5b70c80904a36e4',\n",
      "                     'url': 'https://api.github.com/repos/ririro93/gitin/git/trees/820e241cedc38e976137af9fc5b70c80904a36e4'},\n",
      "            'url': 'https://api.github.com/repos/ririro93/gitin/git/commits/5d5f3adeb9d8f12bb04ba706d265ceae3f18e9a3',\n",
      "            'verification': {'payload': 'tree '\n",
      "                                        '820e241cedc38e976137af9fc5b70c80904a36e4\\n'\n",
      "                                        'parent '\n",
      "                                        '8af20ae09072c60a9dbfe1f5d7073613394e1fe0\\n'\n",
      "                                        'parent '\n",
      "                                        'fe311a57883178758e5f7b81f55a8ed1ee8547db\\n'\n",
      "                                        'author Junha Moon '\n",
      "                                        '<33119135+ririro93@users.noreply.github.com> '\n",
      "                                        '1613641314 +0900\\n'\n",
      "                                        'committer GitHub <noreply@github.com> '\n",
      "                                        '1613641314 +0900\\n'\n",
      "                                        '\\n'\n",
      "                                        'Merge pull request #7 from '\n",
      "                                        'ririro93/repo\\n'\n",
      "                                        '\\n'\n",
      "                                        'Repo',\n",
      "                             'reason': 'valid',\n",
      "                             'signature': '-----BEGIN PGP SIGNATURE-----\\n'\n",
      "                                          '\\n'\n",
      "                                          'wsBcBAABCAAQBQJgLjZiCRBK7hj4Ov3rIwAAdHIIAHQinKKw2Oyf5izUHWSlIWy+\\n'\n",
      "                                          'AUsCVO+UwuijTPpT6WUcUCW1f29LULzcTYxv2Kn1TB14XQ+gHfD62rJlFOZz121G\\n'\n",
      "                                          'vgIREZEcD7x2By4FFGU0cyTFIpDsEIgYghAOBGUkKXDpPwYBKTJMrxwOaSw9srSw\\n'\n",
      "                                          'FgkVX1bYQg9j9KzdJL+fUK+Fc7MYzRFEoyNipUKZaTEAX/PXpE/i+mYUJa29xO5m\\n'\n",
      "                                          'OW+gcwdqXJTgjMGPYTCIHsW6EuNswthgFevov0ivl87uYt9U2/N7qVwidmLWPgvt\\n'\n",
      "                                          'MmmSLCNXShI/lWvCEVLpgXT7FrkP3V9cTfHzMZ9JmUx4qsHbjWuxEAhOnOGXRxQ=\\n'\n",
      "                                          '=+ViQ\\n'\n",
      "                                          '-----END PGP SIGNATURE-----\\n',\n",
      "                             'verified': True}},\n",
      " 'committer': {'avatar_url': 'https://avatars.githubusercontent.com/u/19864447?v=4',\n",
      "               'events_url': 'https://api.github.com/users/web-flow/events{/privacy}',\n",
      "               'followers_url': 'https://api.github.com/users/web-flow/followers',\n",
      "               'following_url': 'https://api.github.com/users/web-flow/following{/other_user}',\n",
      "               'gists_url': 'https://api.github.com/users/web-flow/gists{/gist_id}',\n",
      "               'gravatar_id': '',\n",
      "               'html_url': 'https://github.com/web-flow',\n",
      "               'id': 19864447,\n",
      "               'login': 'web-flow',\n",
      "               'node_id': 'MDQ6VXNlcjE5ODY0NDQ3',\n",
      "               'organizations_url': 'https://api.github.com/users/web-flow/orgs',\n",
      "               'received_events_url': 'https://api.github.com/users/web-flow/received_events',\n",
      "               'repos_url': 'https://api.github.com/users/web-flow/repos',\n",
      "               'site_admin': False,\n",
      "               'starred_url': 'https://api.github.com/users/web-flow/starred{/owner}{/repo}',\n",
      "               'subscriptions_url': 'https://api.github.com/users/web-flow/subscriptions',\n",
      "               'type': 'User',\n",
      "               'url': 'https://api.github.com/users/web-flow'},\n",
      " 'html_url': 'https://github.com/ririro93/gitin/commit/5d5f3adeb9d8f12bb04ba706d265ceae3f18e9a3',\n",
      " 'node_id': 'MDY6Q29tbWl0MzM4NzQ4OTg5OjVkNWYzYWRlYjlkOGYxMmJiMDRiYTcwNmQyNjVjZWFlM2YxOGU5YTM=',\n",
      " 'parents': [{'html_url': 'https://github.com/ririro93/gitin/commit/8af20ae09072c60a9dbfe1f5d7073613394e1fe0',\n",
      "              'sha': '8af20ae09072c60a9dbfe1f5d7073613394e1fe0',\n",
      "              'url': 'https://api.github.com/repos/ririro93/gitin/commits/8af20ae09072c60a9dbfe1f5d7073613394e1fe0'},\n",
      "             {'html_url': 'https://github.com/ririro93/gitin/commit/fe311a57883178758e5f7b81f55a8ed1ee8547db',\n",
      "              'sha': 'fe311a57883178758e5f7b81f55a8ed1ee8547db',\n",
      "              'url': 'https://api.github.com/repos/ririro93/gitin/commits/fe311a57883178758e5f7b81f55a8ed1ee8547db'}],\n",
      " 'sha': '5d5f3adeb9d8f12bb04ba706d265ceae3f18e9a3',\n",
      " 'url': 'https://api.github.com/repos/ririro93/gitin/commits/5d5f3adeb9d8f12bb04ba706d265ceae3f18e9a3'}\n"
     ]
    }
   ],
   "source": [
    "import requests\n",
    "import json\n",
    "from pprint import pprint\n",
    "\n",
    "commits_URL = 'https://api.github.com/repos/ririro93/gitin/commits'\n",
    "commits_res = requests.get(commits_URL)\n",
    "commits_json = commits_res.json()\n",
    "print(len(commits_json))\n",
    "pprint(commits_json[0])"
   ]
  },
  {
   "cell_type": "code",
   "execution_count": 16,
   "id": "loved-intellectual",
   "metadata": {
    "ExecuteTime": {
     "end_time": "2021-02-18T16:15:07.015325Z",
     "start_time": "2021-02-18T16:15:06.995325Z"
    }
   },
   "outputs": [
    {
     "name": "stdout",
     "output_type": "stream",
     "text": [
      "{'author': 'ririro93', 'commit': {'author': {'name': 'Junha Moon', 'email': '33119135+ririro93@users.noreply.github.com', 'date': '2021-02-18T09:41:54Z'}, 'committer': {'name': 'GitHub', 'email': 'noreply@github.com', 'date': '2021-02-18T09:41:54Z'}, 'message': 'Merge pull request #7 from ririro93/repo\\n\\nRepo', 'tree': {'sha': '820e241cedc38e976137af9fc5b70c80904a36e4', 'url': 'https://api.github.com/repos/ririro93/gitin/git/trees/820e241cedc38e976137af9fc5b70c80904a36e4'}, 'url': 'https://api.github.com/repos/ririro93/gitin/git/commits/5d5f3adeb9d8f12bb04ba706d265ceae3f18e9a3', 'comment_count': 0, 'verification': {'verified': True, 'reason': 'valid', 'signature': '-----BEGIN PGP SIGNATURE-----\\n\\nwsBcBAABCAAQBQJgLjZiCRBK7hj4Ov3rIwAAdHIIAHQinKKw2Oyf5izUHWSlIWy+\\nAUsCVO+UwuijTPpT6WUcUCW1f29LULzcTYxv2Kn1TB14XQ+gHfD62rJlFOZz121G\\nvgIREZEcD7x2By4FFGU0cyTFIpDsEIgYghAOBGUkKXDpPwYBKTJMrxwOaSw9srSw\\nFgkVX1bYQg9j9KzdJL+fUK+Fc7MYzRFEoyNipUKZaTEAX/PXpE/i+mYUJa29xO5m\\nOW+gcwdqXJTgjMGPYTCIHsW6EuNswthgFevov0ivl87uYt9U2/N7qVwidmLWPgvt\\nMmmSLCNXShI/lWvCEVLpgXT7FrkP3V9cTfHzMZ9JmUx4qsHbjWuxEAhOnOGXRxQ=\\n=+ViQ\\n-----END PGP SIGNATURE-----\\n', 'payload': 'tree 820e241cedc38e976137af9fc5b70c80904a36e4\\nparent 8af20ae09072c60a9dbfe1f5d7073613394e1fe0\\nparent fe311a57883178758e5f7b81f55a8ed1ee8547db\\nauthor Junha Moon <33119135+ririro93@users.noreply.github.com> 1613641314 +0900\\ncommitter GitHub <noreply@github.com> 1613641314 +0900\\n\\nMerge pull request #7 from ririro93/repo\\n\\nRepo'}}, 'url': 'https://api.github.com/repos/ririro93/gitin/commits/5d5f3adeb9d8f12bb04ba706d265ceae3f18e9a3'}\n"
     ]
    }
   ],
   "source": [
    "author = commits_json[0].get('author').get('login')\n",
    "commit = commits_json[0].get('commit')\n",
    "url = commits_json[0].get('url')\n",
    "print({'author':author, 'commit':commit, 'url':url})"
   ]
  },
  {
   "cell_type": "code",
   "execution_count": null,
   "id": "banned-cattle",
   "metadata": {},
   "outputs": [],
   "source": []
  }
 ],
 "metadata": {
  "kernelspec": {
   "display_name": "Python 3",
   "language": "python",
   "name": "python3"
  },
  "language_info": {
   "codemirror_mode": {
    "name": "ipython",
    "version": 3
   },
   "file_extension": ".py",
   "mimetype": "text/x-python",
   "name": "python",
   "nbconvert_exporter": "python",
   "pygments_lexer": "ipython3",
   "version": "3.8.7"
  },
  "toc": {
   "base_numbering": 1,
   "nav_menu": {},
   "number_sections": true,
   "sideBar": true,
   "skip_h1_title": false,
   "title_cell": "Table of Contents",
   "title_sidebar": "Contents",
   "toc_cell": false,
   "toc_position": {},
   "toc_section_display": true,
   "toc_window_display": false
  }
 },
 "nbformat": 4,
 "nbformat_minor": 5
}
