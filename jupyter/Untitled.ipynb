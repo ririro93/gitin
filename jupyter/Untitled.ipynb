{
 "cells": [
  {
   "cell_type": "code",
   "execution_count": 1,
   "id": "choice-andorra",
   "metadata": {
    "ExecuteTime": {
     "end_time": "2021-02-20T05:14:11.493463Z",
     "start_time": "2021-02-20T05:14:11.319151Z"
    }
   },
   "outputs": [
    {
     "ename": "ModuleNotFoundError",
     "evalue": "No module named 'github'",
     "output_type": "error",
     "traceback": [
      "\u001b[1;31m---------------------------------------------------------------------------\u001b[0m",
      "\u001b[1;31mModuleNotFoundError\u001b[0m                       Traceback (most recent call last)",
      "\u001b[1;32m<ipython-input-1-d9e39a751c09>\u001b[0m in \u001b[0;36m<module>\u001b[1;34m\u001b[0m\n\u001b[1;32m----> 1\u001b[1;33m \u001b[1;32mimport\u001b[0m \u001b[0mgithub\u001b[0m\u001b[1;33m\u001b[0m\u001b[1;33m\u001b[0m\u001b[0m\n\u001b[0m",
      "\u001b[1;31mModuleNotFoundError\u001b[0m: No module named 'github'"
     ]
    }
   ],
   "source": [
    "import github"
   ]
  },
  {
   "cell_type": "code",
   "execution_count": 2,
   "id": "nasty-instruction",
   "metadata": {
    "ExecuteTime": {
     "end_time": "2021-02-20T05:15:53.198893Z",
     "start_time": "2021-02-20T05:15:52.593891Z"
    }
   },
   "outputs": [
    {
     "name": "stdout",
     "output_type": "stream",
     "text": [
      "asgiref==3.3.1\n",
      "certifi==2020.12.5\n",
      "cffi==1.14.5\n",
      "chardet==4.0.0\n",
      "cryptography==3.4.5\n",
      "defusedxml==0.6.0\n",
      "Deprecated==1.2.11\n",
      "Django==3.1.6\n",
      "django-allauth==0.44.0\n",
      "idna==2.10\n",
      "oauthlib==3.1.0\n",
      "Pillow==8.1.0\n",
      "pycparser==2.20\n",
      "PyGithub==1.54.1\n",
      "PyJWT==1.7.1\n",
      "python3-openid==3.2.0\n",
      "pytz==2021.1\n",
      "requests==2.25.1\n",
      "requests-oauthlib==1.3.0\n",
      "sqlparse==0.4.1\n",
      "urllib3==1.26.3\n",
      "wrapt==1.12.1\n"
     ]
    }
   ],
   "source": [
    "! pip freeze"
   ]
  },
  {
   "cell_type": "code",
   "execution_count": 3,
   "id": "specified-shadow",
   "metadata": {
    "ExecuteTime": {
     "end_time": "2021-02-20T05:16:01.546065Z",
     "start_time": "2021-02-20T05:16:01.534073Z"
    }
   },
   "outputs": [
    {
     "ename": "ModuleNotFoundError",
     "evalue": "No module named 'github'",
     "output_type": "error",
     "traceback": [
      "\u001b[1;31m---------------------------------------------------------------------------\u001b[0m",
      "\u001b[1;31mModuleNotFoundError\u001b[0m                       Traceback (most recent call last)",
      "\u001b[1;32m<ipython-input-3-d9e39a751c09>\u001b[0m in \u001b[0;36m<module>\u001b[1;34m\u001b[0m\n\u001b[1;32m----> 1\u001b[1;33m \u001b[1;32mimport\u001b[0m \u001b[0mgithub\u001b[0m\u001b[1;33m\u001b[0m\u001b[1;33m\u001b[0m\u001b[0m\n\u001b[0m",
      "\u001b[1;31mModuleNotFoundError\u001b[0m: No module named 'github'"
     ]
    }
   ],
   "source": [
    "import github"
   ]
  },
  {
   "cell_type": "code",
   "execution_count": null,
   "id": "dying-answer",
   "metadata": {},
   "outputs": [],
   "source": []
  }
 ],
 "metadata": {
  "kernelspec": {
   "display_name": "Python 3",
   "language": "python",
   "name": "python3"
  },
  "language_info": {
   "codemirror_mode": {
    "name": "ipython",
    "version": 3
   },
   "file_extension": ".py",
   "mimetype": "text/x-python",
   "name": "python",
   "nbconvert_exporter": "python",
   "pygments_lexer": "ipython3",
   "version": "3.8.7"
  },
  "toc": {
   "base_numbering": 1,
   "nav_menu": {},
   "number_sections": true,
   "sideBar": true,
   "skip_h1_title": false,
   "title_cell": "Table of Contents",
   "title_sidebar": "Contents",
   "toc_cell": false,
   "toc_position": {},
   "toc_section_display": true,
   "toc_window_display": false
  }
 },
 "nbformat": 4,
 "nbformat_minor": 5
}
