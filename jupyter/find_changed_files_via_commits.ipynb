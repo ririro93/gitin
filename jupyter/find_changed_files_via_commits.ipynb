{
 "cells": [
  {
   "cell_type": "code",
   "execution_count": 1,
   "id": "victorian-vinyl",
   "metadata": {
    "ExecuteTime": {
     "end_time": "2021-03-06T08:58:05.712048Z",
     "start_time": "2021-03-06T08:58:05.025659Z"
    }
   },
   "outputs": [],
   "source": [
    "import requests\n",
    "\n",
    "URL = 'https://api.github.com/repos/ririro93/gitin/commits/675010620c2b651b22c0e1164c8e81eb624259f2'\n",
    "\n",
    "req = requests.get(URL)"
   ]
  },
  {
   "cell_type": "code",
   "execution_count": 6,
   "id": "neither-clone",
   "metadata": {
    "ExecuteTime": {
     "end_time": "2021-03-06T08:59:08.350287Z",
     "start_time": "2021-03-06T08:59:08.317044Z"
    }
   },
   "outputs": [
    {
     "name": "stdout",
     "output_type": "stream",
     "text": [
      "{'author': {'avatar_url': 'https://avatars.githubusercontent.com/u/33119135?v=4',\n",
      "            'events_url': 'https://api.github.com/users/ririro93/events{/privacy}',\n",
      "            'followers_url': 'https://api.github.com/users/ririro93/followers',\n",
      "            'following_url': 'https://api.github.com/users/ririro93/following{/other_user}',\n",
      "            'gists_url': 'https://api.github.com/users/ririro93/gists{/gist_id}',\n",
      "            'gravatar_id': '',\n",
      "            'html_url': 'https://github.com/ririro93',\n",
      "            'id': 33119135,\n",
      "            'login': 'ririro93',\n",
      "            'node_id': 'MDQ6VXNlcjMzMTE5MTM1',\n",
      "            'organizations_url': 'https://api.github.com/users/ririro93/orgs',\n",
      "            'received_events_url': 'https://api.github.com/users/ririro93/received_events',\n",
      "            'repos_url': 'https://api.github.com/users/ririro93/repos',\n",
      "            'site_admin': False,\n",
      "            'starred_url': 'https://api.github.com/users/ririro93/starred{/owner}{/repo}',\n",
      "            'subscriptions_url': 'https://api.github.com/users/ririro93/subscriptions',\n",
      "            'type': 'User',\n",
      "            'url': 'https://api.github.com/users/ririro93'},\n",
      " 'comments_url': 'https://api.github.com/repos/ririro93/gitin/commits/675010620c2b651b22c0e1164c8e81eb624259f2/comments',\n",
      " 'commit': {'author': {'date': '2021-03-06T07:54:26Z',\n",
      "                       'email': 'ririro93@gmail.com',\n",
      "                       'name': 'Junha Moon'},\n",
      "            'comment_count': 0,\n",
      "            'committer': {'date': '2021-03-06T07:54:26Z',\n",
      "                          'email': 'ririro93@gmail.com',\n",
      "                          'name': 'Junha Moon'},\n",
      "            'message': 'Test: commit message when new lines added',\n",
      "            'tree': {'sha': 'b5aa4fbfa51a6ba8758a52ba11d9c266daef9e46',\n",
      "                     'url': 'https://api.github.com/repos/ririro93/gitin/git/trees/b5aa4fbfa51a6ba8758a52ba11d9c266daef9e46'},\n",
      "            'url': 'https://api.github.com/repos/ririro93/gitin/git/commits/675010620c2b651b22c0e1164c8e81eb624259f2',\n",
      "            'verification': {'payload': None,\n",
      "                             'reason': 'unsigned',\n",
      "                             'signature': None,\n",
      "                             'verified': False}},\n",
      " 'committer': {'avatar_url': 'https://avatars.githubusercontent.com/u/33119135?v=4',\n",
      "               'events_url': 'https://api.github.com/users/ririro93/events{/privacy}',\n",
      "               'followers_url': 'https://api.github.com/users/ririro93/followers',\n",
      "               'following_url': 'https://api.github.com/users/ririro93/following{/other_user}',\n",
      "               'gists_url': 'https://api.github.com/users/ririro93/gists{/gist_id}',\n",
      "               'gravatar_id': '',\n",
      "               'html_url': 'https://github.com/ririro93',\n",
      "               'id': 33119135,\n",
      "               'login': 'ririro93',\n",
      "               'node_id': 'MDQ6VXNlcjMzMTE5MTM1',\n",
      "               'organizations_url': 'https://api.github.com/users/ririro93/orgs',\n",
      "               'received_events_url': 'https://api.github.com/users/ririro93/received_events',\n",
      "               'repos_url': 'https://api.github.com/users/ririro93/repos',\n",
      "               'site_admin': False,\n",
      "               'starred_url': 'https://api.github.com/users/ririro93/starred{/owner}{/repo}',\n",
      "               'subscriptions_url': 'https://api.github.com/users/ririro93/subscriptions',\n",
      "               'type': 'User',\n",
      "               'url': 'https://api.github.com/users/ririro93'},\n",
      " 'files': [{'additions': 2,\n",
      "            'blob_url': 'https://github.com/ririro93/gitin/blob/675010620c2b651b22c0e1164c8e81eb624259f2/gitin/gitAPI/admin.py',\n",
      "            'changes': 3,\n",
      "            'contents_url': 'https://api.github.com/repos/ririro93/gitin/contents/gitin/gitAPI/admin.py?ref=675010620c2b651b22c0e1164c8e81eb624259f2',\n",
      "            'deletions': 1,\n",
      "            'filename': 'gitin/gitAPI/admin.py',\n",
      "            'patch': '@@ -45,10 +45,11 @@ class '\n",
      "                     'RepoCommentAdmin(admin.ModelAdmin):\\n'\n",
      "                     ' \\n'\n",
      "                     ' @admin.register(RepoCommit)\\n'\n",
      "                     ' class RepoCommitAdmin(admin.ModelAdmin):\\n'\n",
      "                     \"-    # date_hierarchy = 'updated'\\n\"\n",
      "                     \"+    date_hierarchy = 'committed_at'\\n\"\n",
      "                     '     list_display = (\\n'\n",
      "                     \"         'repo_connected',\\n\"\n",
      "                     \"         'author',\\n\"\n",
      "                     \"+        'committed_at',\\n\"\n",
      "                     \"         'url',\\n\"\n",
      "                     '     )\\n'\n",
      "                     ' ',\n",
      "            'raw_url': 'https://github.com/ririro93/gitin/raw/675010620c2b651b22c0e1164c8e81eb624259f2/gitin/gitAPI/admin.py',\n",
      "            'sha': '1a4f6b140b5ef4d4f30bb354a7e60fbbedcd33af',\n",
      "            'status': 'modified'},\n",
      "           {'additions': 3,\n",
      "            'blob_url': 'https://github.com/ririro93/gitin/blob/675010620c2b651b22c0e1164c8e81eb624259f2/gitin/gitAPI/views.py',\n",
      "            'changes': 6,\n",
      "            'contents_url': 'https://api.github.com/repos/ririro93/gitin/contents/gitin/gitAPI/views.py?ref=675010620c2b651b22c0e1164c8e81eb624259f2',\n",
      "            'deletions': 3,\n",
      "            'filename': 'gitin/gitAPI/views.py',\n",
      "            'patch': '@@ -225,7 +225,7 @@ def get(self, request, *args, '\n",
      "                     '**kwargs):\\n'\n",
      "                     '         try:\\n'\n",
      "                     '             updateRepo = request.GET.updateRepo     # '\n",
      "                     'add button to update repo\\n'\n",
      "                     '         except:\\n'\n",
      "                     '-            updateRepo = False\\n'\n",
      "                     '+            updateRepo = True\\n'\n",
      "                     \"         print('###########')\\n\"\n",
      "                     \"         print('update: ', updateRepo)\\n\"\n",
      "                     '         \\n'\n",
      "                     '@@ -239,8 +239,8 @@ def get(self, request, *args, '\n",
      "                     '**kwargs):\\n'\n",
      "                     '         \\n'\n",
      "                     '         # if update update commits and contents\\n'\n",
      "                     '         if updateRepo:\\n'\n",
      "                     '-            # # create commits and add to context\\n'\n",
      "                     \"-            # context['commits'] = \"\n",
      "                     'self.create_repo_commits()\\n'\n",
      "                     '+            # create commits and add to context\\n'\n",
      "                     \"+            context['commits'] = \"\n",
      "                     'self.create_repo_commits()\\n'\n",
      "                     '             \\n'\n",
      "                     '             # update contents\\n'\n",
      "                     '             self.delete_repo_content_files()',\n",
      "            'raw_url': 'https://github.com/ririro93/gitin/raw/675010620c2b651b22c0e1164c8e81eb624259f2/gitin/gitAPI/views.py',\n",
      "            'sha': 'a73f381333de2cc5f477a09bacdb7fd1f6bdbbe5',\n",
      "            'status': 'modified'},\n",
      "           {'additions': 5,\n",
      "            'blob_url': 'https://github.com/ririro93/gitin/blob/675010620c2b651b22c0e1164c8e81eb624259f2/renamed_test/sha_after_namechange.py',\n",
      "            'changes': 8,\n",
      "            'contents_url': 'https://api.github.com/repos/ririro93/gitin/contents/renamed_test/sha_after_namechange.py?ref=675010620c2b651b22c0e1164c8e81eb624259f2',\n",
      "            'deletions': 3,\n",
      "            'filename': 'renamed_test/sha_after_namechange.py',\n",
      "            'patch': '@@ -5,7 +5,9 @@\\n'\n",
      "                     ' # sha : 284ebfd01afd9bf7be50f68745578d253ce641fe\\n'\n",
      "                     ' \\n'\n",
      "                     ' # after content change\\n'\n",
      "                     '-# sha : 54981429af5cea1f9942cf22c4c087bbe9b59f27\\n'\n",
      "                     '+# sha : 23290b8d4d058c801456e91db77d0dc8670073af\\n'\n",
      "                     ' \\n'\n",
      "                     '-# after renaming parent dir\\n'\n",
      "                     '-# sha : \\n'\n",
      "                     '\\\\ No newline at end of file\\n'\n",
      "                     '+# after renaming parent dir -> sha no change\\n'\n",
      "                     '+# sha : 23290b8d4d058c801456e91db77d0dc8670073af\\n'\n",
      "                     '+\\n'\n",
      "                     '+# what happens when new lines are added?\\n'\n",
      "                     '\\\\ No newline at end of file',\n",
      "            'raw_url': 'https://github.com/ririro93/gitin/raw/675010620c2b651b22c0e1164c8e81eb624259f2/renamed_test/sha_after_namechange.py',\n",
      "            'sha': '9b8ea7c23a793be398e9c0c4e2b1199e94c1f9de',\n",
      "            'status': 'modified'}],\n",
      " 'html_url': 'https://github.com/ririro93/gitin/commit/675010620c2b651b22c0e1164c8e81eb624259f2',\n",
      " 'node_id': 'MDY6Q29tbWl0MzM4NzQ4OTg5OjY3NTAxMDYyMGMyYjY1MWIyMmMwZTExNjRjOGU4MWViNjI0MjU5ZjI=',\n",
      " 'parents': [{'html_url': 'https://github.com/ririro93/gitin/commit/4227a2ef66aaa28790f8c0138243088445edcfcd',\n",
      "              'sha': '4227a2ef66aaa28790f8c0138243088445edcfcd',\n",
      "              'url': 'https://api.github.com/repos/ririro93/gitin/commits/4227a2ef66aaa28790f8c0138243088445edcfcd'}],\n",
      " 'sha': '675010620c2b651b22c0e1164c8e81eb624259f2',\n",
      " 'stats': {'additions': 10, 'deletions': 7, 'total': 17},\n",
      " 'url': 'https://api.github.com/repos/ririro93/gitin/commits/675010620c2b651b22c0e1164c8e81eb624259f2'}\n"
     ]
    }
   ],
   "source": [
    "from pprint import pprint\n",
    "pprint(req.json())"
   ]
  },
  {
   "cell_type": "code",
   "execution_count": 23,
   "id": "emerging-tribune",
   "metadata": {
    "ExecuteTime": {
     "end_time": "2021-03-06T09:07:06.405540Z",
     "start_time": "2021-03-06T09:07:06.392830Z"
    }
   },
   "outputs": [
    {
     "name": "stdout",
     "output_type": "stream",
     "text": [
      "[{'additions': 2,\n",
      "  'blob_url': 'https://github.com/ririro93/gitin/blob/675010620c2b651b22c0e1164c8e81eb624259f2/gitin/gitAPI/admin.py',\n",
      "  'changes': 3,\n",
      "  'contents_url': 'https://api.github.com/repos/ririro93/gitin/contents/gitin/gitAPI/admin.py?ref=675010620c2b651b22c0e1164c8e81eb624259f2',\n",
      "  'deletions': 1,\n",
      "  'filename': 'gitin/gitAPI/admin.py',\n",
      "  'patch': '@@ -45,10 +45,11 @@ class RepoCommentAdmin(admin.ModelAdmin):\\n'\n",
      "           ' \\n'\n",
      "           ' @admin.register(RepoCommit)\\n'\n",
      "           ' class RepoCommitAdmin(admin.ModelAdmin):\\n'\n",
      "           \"-    # date_hierarchy = 'updated'\\n\"\n",
      "           \"+    date_hierarchy = 'committed_at'\\n\"\n",
      "           '     list_display = (\\n'\n",
      "           \"         'repo_connected',\\n\"\n",
      "           \"         'author',\\n\"\n",
      "           \"+        'committed_at',\\n\"\n",
      "           \"         'url',\\n\"\n",
      "           '     )\\n'\n",
      "           ' ',\n",
      "  'raw_url': 'https://github.com/ririro93/gitin/raw/675010620c2b651b22c0e1164c8e81eb624259f2/gitin/gitAPI/admin.py',\n",
      "  'sha': '1a4f6b140b5ef4d4f30bb354a7e60fbbedcd33af',\n",
      "  'status': 'modified'},\n",
      " {'additions': 3,\n",
      "  'blob_url': 'https://github.com/ririro93/gitin/blob/675010620c2b651b22c0e1164c8e81eb624259f2/gitin/gitAPI/views.py',\n",
      "  'changes': 6,\n",
      "  'contents_url': 'https://api.github.com/repos/ririro93/gitin/contents/gitin/gitAPI/views.py?ref=675010620c2b651b22c0e1164c8e81eb624259f2',\n",
      "  'deletions': 3,\n",
      "  'filename': 'gitin/gitAPI/views.py',\n",
      "  'patch': '@@ -225,7 +225,7 @@ def get(self, request, *args, **kwargs):\\n'\n",
      "           '         try:\\n'\n",
      "           '             updateRepo = request.GET.updateRepo     # add button '\n",
      "           'to update repo\\n'\n",
      "           '         except:\\n'\n",
      "           '-            updateRepo = False\\n'\n",
      "           '+            updateRepo = True\\n'\n",
      "           \"         print('###########')\\n\"\n",
      "           \"         print('update: ', updateRepo)\\n\"\n",
      "           '         \\n'\n",
      "           '@@ -239,8 +239,8 @@ def get(self, request, *args, **kwargs):\\n'\n",
      "           '         \\n'\n",
      "           '         # if update update commits and contents\\n'\n",
      "           '         if updateRepo:\\n'\n",
      "           '-            # # create commits and add to context\\n'\n",
      "           \"-            # context['commits'] = self.create_repo_commits()\\n\"\n",
      "           '+            # create commits and add to context\\n'\n",
      "           \"+            context['commits'] = self.create_repo_commits()\\n\"\n",
      "           '             \\n'\n",
      "           '             # update contents\\n'\n",
      "           '             self.delete_repo_content_files()',\n",
      "  'raw_url': 'https://github.com/ririro93/gitin/raw/675010620c2b651b22c0e1164c8e81eb624259f2/gitin/gitAPI/views.py',\n",
      "  'sha': 'a73f381333de2cc5f477a09bacdb7fd1f6bdbbe5',\n",
      "  'status': 'modified'},\n",
      " {'additions': 5,\n",
      "  'blob_url': 'https://github.com/ririro93/gitin/blob/675010620c2b651b22c0e1164c8e81eb624259f2/renamed_test/sha_after_namechange.py',\n",
      "  'changes': 8,\n",
      "  'contents_url': 'https://api.github.com/repos/ririro93/gitin/contents/renamed_test/sha_after_namechange.py?ref=675010620c2b651b22c0e1164c8e81eb624259f2',\n",
      "  'deletions': 3,\n",
      "  'filename': 'renamed_test/sha_after_namechange.py',\n",
      "  'patch': '@@ -5,7 +5,9 @@\\n'\n",
      "           ' # sha : 284ebfd01afd9bf7be50f68745578d253ce641fe\\n'\n",
      "           ' \\n'\n",
      "           ' # after content change\\n'\n",
      "           '-# sha : 54981429af5cea1f9942cf22c4c087bbe9b59f27\\n'\n",
      "           '+# sha : 23290b8d4d058c801456e91db77d0dc8670073af\\n'\n",
      "           ' \\n'\n",
      "           '-# after renaming parent dir\\n'\n",
      "           '-# sha : \\n'\n",
      "           '\\\\ No newline at end of file\\n'\n",
      "           '+# after renaming parent dir -> sha no change\\n'\n",
      "           '+# sha : 23290b8d4d058c801456e91db77d0dc8670073af\\n'\n",
      "           '+\\n'\n",
      "           '+# what happens when new lines are added?\\n'\n",
      "           '\\\\ No newline at end of file',\n",
      "  'raw_url': 'https://github.com/ririro93/gitin/raw/675010620c2b651b22c0e1164c8e81eb624259f2/renamed_test/sha_after_namechange.py',\n",
      "  'sha': '9b8ea7c23a793be398e9c0c4e2b1199e94c1f9de',\n",
      "  'status': 'modified'}]\n"
     ]
    }
   ],
   "source": [
    "pprint(req.json().get('files'))"
   ]
  },
  {
   "cell_type": "code",
   "execution_count": 22,
   "id": "accessory-harris",
   "metadata": {
    "ExecuteTime": {
     "end_time": "2021-03-06T09:05:28.954235Z",
     "start_time": "2021-03-06T09:05:28.948369Z"
    }
   },
   "outputs": [
    {
     "name": "stdout",
     "output_type": "stream",
     "text": [
      "@@ -45,10 +45,11 @@ class RepoCommentAdmin(admin.ModelAdmin):\n"
     ]
    }
   ],
   "source": [
    "patch = req.json().get('files')[0].get('patch')\n",
    "arr = patch.split('\\n')\n",
    "# for line in arr:\n",
    "#     print(line)\n",
    "#     if line[0] == '+':\n",
    "#         print('this line starts with +')\n",
    "#     if line[0] == '-':\n",
    "#         print('this line starts with -')\n",
    "print(arr[0])"
   ]
  },
  {
   "cell_type": "code",
   "execution_count": 16,
   "id": "excessive-constitutional",
   "metadata": {
    "ExecuteTime": {
     "end_time": "2021-03-06T09:01:39.681917Z",
     "start_time": "2021-03-06T09:01:39.670185Z"
    }
   },
   "outputs": [
    {
     "ename": "AttributeError",
     "evalue": "'str' object has no attribute 'readline'",
     "output_type": "error",
     "traceback": [
      "\u001b[1;31m---------------------------------------------------------------------------\u001b[0m",
      "\u001b[1;31mAttributeError\u001b[0m                            Traceback (most recent call last)",
      "\u001b[1;32m<ipython-input-16-62cfedb93cba>\u001b[0m in \u001b[0;36m<module>\u001b[1;34m\u001b[0m\n\u001b[1;32m----> 1\u001b[1;33m \u001b[0mprint\u001b[0m\u001b[1;33m(\u001b[0m\u001b[0mpatch\u001b[0m\u001b[1;33m.\u001b[0m\u001b[0mreadline\u001b[0m\u001b[1;33m(\u001b[0m\u001b[1;33m)\u001b[0m\u001b[1;33m)\u001b[0m\u001b[1;33m\u001b[0m\u001b[1;33m\u001b[0m\u001b[0m\n\u001b[0m",
      "\u001b[1;31mAttributeError\u001b[0m: 'str' object has no attribute 'readline'"
     ]
    }
   ],
   "source": [
    "print(patch)"
   ]
  },
  {
   "cell_type": "code",
   "execution_count": null,
   "id": "imported-variation",
   "metadata": {},
   "outputs": [],
   "source": []
  }
 ],
 "metadata": {
  "kernelspec": {
   "display_name": "Python 3",
   "language": "python",
   "name": "python3"
  },
  "language_info": {
   "codemirror_mode": {
    "name": "ipython",
    "version": 3
   },
   "file_extension": ".py",
   "mimetype": "text/x-python",
   "name": "python",
   "nbconvert_exporter": "python",
   "pygments_lexer": "ipython3",
   "version": "3.8.7"
  },
  "toc": {
   "base_numbering": 1,
   "nav_menu": {},
   "number_sections": true,
   "sideBar": true,
   "skip_h1_title": false,
   "title_cell": "Table of Contents",
   "title_sidebar": "Contents",
   "toc_cell": false,
   "toc_position": {},
   "toc_section_display": true,
   "toc_window_display": false
  }
 },
 "nbformat": 4,
 "nbformat_minor": 5
}
